{
 "cells": [
  {
   "cell_type": "markdown",
   "metadata": {
    "id": "SPoD_ceReiT1"
   },
   "source": [
    "<a href='https://www.darshan.ac.in/'> <img src='https://www.darshan.ac.in/Content/media/DU_Logo.svg' width=\"250\" height=\"300\"/></a>\n",
    "<pre>\n",
    "<center><b><h1>Python Programming - 2304CS402</b></center>\n",
    "<center><b><h1>Lab - 9</b></center>    \n",
    "<pre>"
   ]
  },
  {
   "cell_type": "markdown",
   "metadata": {
    "id": "UqpqbpZEeiT4"
   },
   "source": [
    "# Working with Function in python."
   ]
  },
  {
   "cell_type": "markdown",
   "metadata": {
    "id": "q3sib5cSeiT5"
   },
   "source": [
    "### 01) Write a program to calculate simple interest using a function."
   ]
  },
  {
   "cell_type": "markdown",
   "metadata": {
    "id": "_xUNh9ppem9g"
   },
   "source": [
    "# SI =( principle(amount) * rate of interest * time )/ 100"
   ]
  },
  {
   "cell_type": "code",
   "execution_count": 3,
   "metadata": {
    "colab": {
     "base_uri": "https://localhost:8080/"
    },
    "executionInfo": {
     "elapsed": 13031,
     "status": "ok",
     "timestamp": 1706267778231,
     "user": {
      "displayName": "Tej Patel",
      "userId": "04032777318747107215"
     },
     "user_tz": -330
    },
    "id": "W9GVhnjIeiT5",
    "outputId": "3e96c306-2add-47a8-b96e-657d73467886"
   },
   "outputs": [
    {
     "name": "stdout",
     "output_type": "stream",
     "text": [
      "Simple Interest is 300.0\n"
     ]
    }
   ],
   "source": [
    "def cal_si():\n",
    "    amount=int(input(\"Enter the amount of money: \"))\n",
    "    rate = float(input(\"Enter the interest rate per year :\"))\n",
    "    time = int(input(\"Enter the time for which the money is to be invested (in years):\"))\n",
    "    si=amount*(rate * time)/100\n",
    "    print(\"Simple Interest is\",si)\n",
    "cal_si()\n",
    "    "
   ]
  },
  {
   "cell_type": "markdown",
   "metadata": {
    "id": "tE0vZRZdeiT6"
   },
   "source": [
    "### 02) Write a program that defines a function to add first N numbers."
   ]
  },
  {
   "cell_type": "code",
   "execution_count": 18,
   "metadata": {
    "colab": {
     "base_uri": "https://localhost:8080/"
    },
    "executionInfo": {
     "elapsed": 2459,
     "status": "ok",
     "timestamp": 1706268095305,
     "user": {
      "displayName": "Tej Patel",
      "userId": "04032777318747107215"
     },
     "user_tz": -330
    },
    "id": "Vsrn_objeiT6",
    "outputId": "921291b9-afab-4c58-a622-5895c1cdb7ff"
   },
   "outputs": [
    {
     "name": "stdout",
     "output_type": "stream",
     "text": [
      "55\n"
     ]
    }
   ],
   "source": [
    "def add_num(n):\n",
    "    ans=0\n",
    "    for i in range(0,n+1):\n",
    "            ans+=i\n",
    "    return ans\n",
    "a=int(input(\"Enter  a number:\"))\n",
    "final_ans = add_num(a)\n",
    "print(final_ans)"
   ]
  },
  {
   "cell_type": "markdown",
   "metadata": {
    "id": "CS0YQzxyeiT6"
   },
   "source": [
    "### 03) Write a program to find the maximum number from the two given numbers using a function."
   ]
  },
  {
   "cell_type": "code",
   "execution_count": 26,
   "metadata": {
    "executionInfo": {
     "elapsed": 448,
     "status": "ok",
     "timestamp": 1706268076097,
     "user": {
      "displayName": "Tej Patel",
      "userId": "04032777318747107215"
     },
     "user_tz": -330
    },
    "id": "zlo56PLZeiT6"
   },
   "outputs": [
    {
     "name": "stdout",
     "output_type": "stream",
     "text": [
      "The maximum of 23 and 56 is 56\n"
     ]
    }
   ],
   "source": [
    "def maximum(n1,n2):\n",
    "    if n1==n2:\n",
    "        return  \"The numbers are equal.\"\n",
    "    elif n1 > n2:\n",
    "        return n1\n",
    "    else:\n",
    "        return n2\n",
    "a=int(input(\"Enter the first number\"))\n",
    "b=int(input(\"Enter the second number\"))\n",
    "print(f\"The maximum of {a} and {b} is\",maximum(a,b))\n"
   ]
  },
  {
   "cell_type": "markdown",
   "metadata": {},
   "source": [
    "### 04) Write a program to take a string from the user & pass it as an argument an convert all lowercase characters into uppercase using a function."
   ]
  },
  {
   "cell_type": "code",
   "execution_count": 1,
   "metadata": {},
   "outputs": [
    {
     "name": "stdout",
     "output_type": "stream",
     "text": [
      "String in uppercase: DARSHAN\n"
     ]
    }
   ],
   "source": [
    "\n",
    "def convert_to_uppercase(input_string):\n",
    "    return input_string.upper()\n",
    "\n",
    "user_input = input(\"Enter a string: \")\n",
    "\n",
    "result = convert_to_uppercase(user_input)\n",
    "print(\"String in uppercase:\", result)\n"
   ]
  },
  {
   "cell_type": "markdown",
   "metadata": {},
   "source": [
    "### 05) Write a program to find the factorial of a given number using function"
   ]
  },
  {
   "cell_type": "code",
   "execution_count": 7,
   "metadata": {},
   "outputs": [
    {
     "name": "stdout",
     "output_type": "stream",
     "text": [
      "The factorial of 5 is 120\n"
     ]
    }
   ],
   "source": [
    "\n",
    "def factorial(n):\n",
    "    result = 1\n",
    "    for i in range(1, n + 1):\n",
    "        result *= i\n",
    "    return result\n",
    "\n",
    "\n",
    "result = factorial(5)\n",
    "print(f\"The factorial of 5 is {result}\")\n"
   ]
  },
  {
   "cell_type": "markdown",
   "metadata": {},
   "source": [
    "### 06) Write a program to generate a fibonacci series using a function. (e.g. 0 1 1 2 3 5 8..)."
   ]
  },
  {
   "cell_type": "markdown",
   "metadata": {},
   "source": [
    "<img src=\"https://www.freecodecamp.org/news/content/images/size/w1000/2022/06/calculate-the-Fibonacci-number-we-have-basic-2-approaches.png\" height=\"600px\" width=\"600px\">"
   ]
  },
  {
   "cell_type": "code",
   "execution_count": 3,
   "metadata": {},
   "outputs": [
    {
     "name": "stdout",
     "output_type": "stream",
     "text": [
      "[0, 1, 1, 2, 3, 5, 8, 13, 21, 34, 55, 89, 144, 233, 377, 610, 987, 1597, 2584, 4181, 6765]\n"
     ]
    }
   ],
   "source": [
    "def fibbo(n):\n",
    "    fibo=[0,1]\n",
    "    for i  in range(1, n+1):\n",
    "        if i == 1:\n",
    "            a = 0\n",
    "            b = 1\n",
    "            \n",
    "        else:\n",
    "            c = a + b\n",
    "            a = b\n",
    "            b = c\n",
    "            fibo.append(c)\n",
    "    return fibo\n",
    "\n",
    "arr=fibbo(20)\n",
    "print(arr)\n",
    "        "
   ]
  },
  {
   "cell_type": "markdown",
   "metadata": {},
   "source": [
    "### 07) Write a program to implement a simple calculator using the lambda function."
   ]
  },
  {
   "cell_type": "code",
   "execution_count": 4,
   "metadata": {},
   "outputs": [
    {
     "name": "stdout",
     "output_type": "stream",
     "text": [
      "250\n"
     ]
    }
   ],
   "source": [
    "n1=int(input(\"Enter First number:\"))\n",
    "n2=int(input(\"Enter second number:\"))\n",
    "\n",
    "choice = int(input(\"Enter choice \\n(1)For Addition \\n(2)For Subtraction \\n(3)For Multiplication \\n(4)For Division \\n:\"))\n",
    "if(choice == 1):\n",
    "    ans = lambda n1,n2:n1+n2\n",
    "elif(choice == 2):\n",
    "    ans = lambda n1,n2:n1-n2\n",
    "elif(choice == 3):\n",
    "    ans = lambda n1,n2:n1*n2\n",
    "elif(choice == 4):\n",
    "    ans = lambda n1,n2:n1//n2\n",
    "else:\n",
    "    ans = \"Invaliid\"\n",
    "print(ans(n1,n2))"
   ]
  },
  {
   "cell_type": "markdown",
   "metadata": {
    "id": "7AaoGClieiT7"
   },
   "source": [
    "### 08) WAP that defines a function which returns 1 if the number is prime otherwise return 0."
   ]
  },
  {
   "cell_type": "code",
   "execution_count": 39,
   "metadata": {
    "colab": {
     "base_uri": "https://localhost:8080/"
    },
    "executionInfo": {
     "elapsed": 1388,
     "status": "ok",
     "timestamp": 1706269570666,
     "user": {
      "displayName": "Tej Patel",
      "userId": "04032777318747107215"
     },
     "user_tz": -330
    },
    "id": "dbUnipZieiT7",
    "outputId": "49ebc139-27c4-413c-9645-beaa283ff670"
   },
   "outputs": [
    {
     "name": "stdout",
     "output_type": "stream",
     "text": [
      "1\n"
     ]
    }
   ],
   "source": [
    "def prime(n):\n",
    "    count = 0\n",
    "    for i in range(2,n):\n",
    "        count+=1\n",
    "        if n%i == 0:\n",
    "            return 0    \n",
    "    else:\n",
    "        return 1\n",
    "n=int(input(\"Enter a number ::\"))\n",
    "print(prime(n))"
   ]
  },
  {
   "cell_type": "markdown",
   "metadata": {},
   "source": [
    "### 09) Write a program to find the factorial of a given number using recursion"
   ]
  },
  {
   "cell_type": "code",
   "execution_count": 5,
   "metadata": {},
   "outputs": [
    {
     "name": "stdout",
     "output_type": "stream",
     "text": [
      "120\n"
     ]
    }
   ],
   "source": [
    "def fact(n):\n",
    "    if(n==1  or n==0):\n",
    "        return 1\n",
    "    else:\n",
    "        return n*fact(n-1)\n",
    "    \n",
    "print(fact(5))"
   ]
  },
  {
   "cell_type": "markdown",
   "metadata": {},
   "source": [
    "### 10) Write a program to generate a fibonacci series of a given number N using recursion"
   ]
  },
  {
   "cell_type": "code",
   "execution_count": 6,
   "metadata": {},
   "outputs": [
    {
     "name": "stdout",
     "output_type": "stream",
     "text": [
      "Fibonacci series:\n",
      "0 1 1 2 3 5 8 13 "
     ]
    }
   ],
   "source": [
    "\n",
    "def fibonacci(n):\n",
    "    if n <= 1:\n",
    "        return n\n",
    "    else:\n",
    "        return fibonacci(n-1) + fibonacci(n-2)\n",
    "\n",
    "N = int(input(\"Enter the number of terms: \"))\n",
    "\n",
    "print(\"Fibonacci series:\")\n",
    "for i in range(N):\n",
    "    print(fibonacci(i), end=\" \")\n"
   ]
  }
 ],
 "metadata": {
  "colab": {
   "provenance": []
  },
  "kernelspec": {
   "display_name": "Python 3 (ipykernel)",
   "language": "python",
   "name": "python3"
  },
  "language_info": {
   "codemirror_mode": {
    "name": "ipython",
    "version": 3
   },
   "file_extension": ".py",
   "mimetype": "text/x-python",
   "name": "python",
   "nbconvert_exporter": "python",
   "pygments_lexer": "ipython3",
   "version": "3.12.4"
  }
 },
 "nbformat": 4,
 "nbformat_minor": 1
}

{
 "cells": [
  {
   "cell_type": "markdown",
   "metadata": {
    "id": "sJl9GIC-LMQr"
   },
   "source": [
    "<a href='https://www.darshan.ac.in/'> <img src='https://www.darshan.ac.in/Content/media/DU_Logo.svg' width=\"250\" height=\"300\"/></a>\n",
    "<pre>\n",
    "<center><b><h1>Python Programming - 2304CS402</b></center>\n",
    "<center><b><h1>Lab - 11</b></center>    \n",
    "<pre>"
   ]
  },
  {
   "cell_type": "markdown",
   "metadata": {
    "id": "AM78boBeLMQw"
   },
   "source": [
    "# Working with various Modules in Python."
   ]
  },
  {
   "cell_type": "markdown",
   "metadata": {
    "id": "R0c-Js2uLMQw"
   },
   "source": [
    "# A"
   ]
  },
  {
   "cell_type": "markdown",
   "metadata": {
    "id": "2P1QtyspLMQx"
   },
   "source": [
    "### 01) WAP to create Calculator module which defines functions like add, sub,mul and div. create another file that uses the Calculator module."
   ]
  },
  {
   "cell_type": "markdown",
   "metadata": {},
   "source": [
    "# calculator.py\n",
    "\n",
    "def add(x, y):\n",
    "    return x + y\n",
    "\n",
    "def subtract(x, y):\n",
    "    return x - y\n",
    "\n",
    "def multiply(x, y):\n",
    "    return x * y\n",
    "\n",
    "def divide(x, y):\n",
    "    if y != 0:\n",
    "        return x / y\n",
    "    else:\n",
    "        return \"Division by zero is not allowed\"\n"
   ]
  },
  {
   "cell_type": "code",
   "execution_count": 2,
   "metadata": {
    "id": "c1FSkhnOLMQx"
   },
   "outputs": [
    {
     "name": "stdout",
     "output_type": "stream",
     "text": [
      "Addition: 15\n",
      "Subtraction: 5\n",
      "Multiplication: 50\n",
      "Division: 2.0\n"
     ]
    }
   ],
   "source": [
    "import calculator\n",
    "\n",
    "print(\"Addition:\", calculator.add(10, 5))\n",
    "print(\"Subtraction:\", calculator.subtract(10, 5))\n",
    "print(\"Multiplication:\", calculator.multiply(10, 5))\n",
    "print(\"Division:\", calculator.divide(10, 5))\n"
   ]
  },
  {
   "cell_type": "markdown",
   "metadata": {
    "id": "5LwBPN6QLMQy"
   },
   "source": [
    "### 02) Write a program to pick a random character from a given string."
   ]
  },
  {
   "cell_type": "code",
   "execution_count": 5,
   "metadata": {
    "colab": {
     "base_uri": "https://localhost:8080/"
    },
    "id": "L5-vtBrNLMQy",
    "outputId": "ff21fb99-295d-4334-c64c-ae87b49a0d7e"
   },
   "outputs": [
    {
     "name": "stdout",
     "output_type": "stream",
     "text": [
      "Enter a String:asdf\n",
      "Orignal String:  asdf\n",
      "Random character:  d\n"
     ]
    }
   ],
   "source": [
    "import random as rn\n",
    "\n",
    "a = input(\"Enter a String:\")\n",
    "print(\"Orignal String: \",a)\n",
    "print(\"Random character: \",rn.choice(a))"
   ]
  },
  {
   "cell_type": "markdown",
   "metadata": {
    "id": "VWouUT84LMQz"
   },
   "source": [
    "### 03) Write a program to demonstrate the use of the math module"
   ]
  },
  {
   "cell_type": "code",
   "execution_count": 9,
   "metadata": {
    "colab": {
     "base_uri": "https://localhost:8080/"
    },
    "id": "weRozH2TLMQz",
    "outputId": "fb51a06b-57f6-4d4f-9b72-91cc243e4150"
   },
   "outputs": [
    {
     "name": "stdout",
     "output_type": "stream",
     "text": [
      "Value of pi:  3.141592653589793\n",
      "Value of e:  2.718281828459045\n",
      "Square root of 10:  3.1622776601683795\n",
      "Sine of 30 degree:  -0.9880316240928618\n",
      "Cosine of 45 degree:  0.15425144988758405\n",
      "Tangent of 60 degrees:  0.320040389379563\n",
      "Floor of 2.5:  2\n",
      "Celing of 3.2:  4\n",
      "Factorial of 5:  120\n",
      "Absolute value of -5:  5.0\n",
      "2 raised to the power of 3:  8.0\n",
      "Logarithm of 10 to the base 2:  3.321928094887362\n",
      "Natural logarithm of 10:  1.0\n",
      "Hyperbolic sine of 1:  1.1752011936438014\n",
      "Hyperbolic cosine of 1:  1.5430806348152437\n",
      "Hyperbolic tangent of 1:  0.7615941559557649\n",
      "Inverse Hyperbolic sine of 1:  0.881373587019543\n",
      "Inverse Hyperbolic cosine of 1:  0.0\n",
      "Inverse Hyperbolic tangent of 0:  0.0\n"
     ]
    }
   ],
   "source": [
    "import math\n",
    "print(\"Value of pi: \",math.pi)\n",
    "print(\"Value of e: \",math.e)\n",
    "print(\"Square root of 10: \",math.sqrt(10))\n",
    "print(\"Sine of 30 degree: \",math.sin(30))\n",
    "print(\"Cosine of 45 degree: \",math.cos(30))\n",
    "print(\"Tangent of 60 degrees: \",math.tan(60))\n",
    "print(\"Floor of 2.5: \",math.floor(2.5))\n",
    "print(\"Celing of 3.2: \",math.ceil(3.2))\n",
    "print(\"Factorial of 5: \",math.factorial(5))\n",
    "print(\"Absolute value of -5: \",math.fabs(-5))\n",
    "print(\"2 raised to the power of 3: \",math.pow(2,3))\n",
    "print(\"Logarithm of 10 to the base 2: \",math.log2(10))\n",
    "print(\"Natural logarithm of 10: \",math.log10(10))\n",
    "print(\"Hyperbolic sine of 1: \",math.sinh(1))\n",
    "print(\"Hyperbolic cosine of 1: \",math.cosh(1))\n",
    "print(\"Hyperbolic tangent of 1: \",math.tanh(1))\n",
    "print(\"Inverse Hyperbolic sine of 1: \",math.asinh(1))\n",
    "print(\"Inverse Hyperbolic cosine of 1: \",math.acosh(1))\n",
    "print(\"Inverse Hyperbolic tangent of 0: \",math.atanh(0))"
   ]
  },
  {
   "cell_type": "markdown",
   "metadata": {
    "id": "i-C7uIMTLMQz"
   },
   "source": [
    "### 04) Write a program to demonstrate the use of the date-time module."
   ]
  },
  {
   "cell_type": "code",
   "execution_count": 19,
   "metadata": {
    "colab": {
     "base_uri": "https://localhost:8080/"
    },
    "id": "uhuwrEcMLMQ0",
    "outputId": "f9649c16-262e-4b76-d359-7a0740c5c550"
   },
   "outputs": [
    {
     "name": "stdout",
     "output_type": "stream",
     "text": [
      "Current date and time:  2024-02-20 09:09:01.761958\n",
      "Current date:  2024-02-20 09:09:01.761958\n",
      "Current time:  09:09:01.761958\n",
      "Current year:  2024\n",
      "Current month:  2\n",
      "Current day:  20\n",
      "Current hour:  9\n",
      "Current minute:  9\n",
      "Current second:  1\n",
      "Current microsecond:  761958\n",
      "Current timezone:  India Standard Time\n",
      "Current timestamp:  1708400341.761958\n",
      "Current UTC time:  2024-02-20 03:39:01.762975\n",
      "Current time in a specific format:  2024-02-20 09:09:01\n",
      "Current time in a specific timezone:  2024-02-20 03:39:01\n",
      "Current time in a specific timezone using a specific format:  2024:02:20 03:39:01 UTC +0000\n"
     ]
    }
   ],
   "source": [
    "import datetime as dt\n",
    "import pytz \n",
    "UTC = pytz.utc \n",
    "\n",
    "current_date = dt.datetime.now()\n",
    "print(\"Current date and time: \",current_date)\n",
    "print(\"Current date: \",dt.datetime.today())\n",
    "print(\"Current time: \",current_date.time())\n",
    "print(\"Current year: \",current_date.year)\n",
    "print(\"Current month: \",current_date.month)\n",
    "print(\"Current day: \",current_date.day)\n",
    "print(\"Current hour: \",current_date.hour)\n",
    "print(\"Current minute: \",current_date.minute)\n",
    "print(\"Current second: \",current_date.second)\n",
    "print(\"Current microsecond: \",current_date.microsecond)\n",
    "print(\"Current timezone: \",dt.datetime.utcnow().astimezone().tzinfo)\n",
    "print(\"Current timestamp: \",current_date.timestamp())\n",
    "print(\"Current UTC time: \",dt.datetime.utcnow())\n",
    "print(\"Current time in a specific format: \",current_date.strftime(\"%Y-%m-%d %H:%M:%S\"))\n",
    "print(\"Current time in a specific timezone: \",dt.datetime.utcnow().strftime(\"%Y-%m-%d %H:%M:%S\"))\n",
    "print(\"Current time in a specific timezone using a specific format: \",dt.datetime.now(UTC).strftime('%Y:%m:%d %H:%M:%S %Z %z'))"
   ]
  },
  {
   "cell_type": "markdown",
   "metadata": {},
   "source": [
    "### 05) Write a program to create a custom module to find the factorial of a given number"
   ]
  },
  {
   "cell_type": "code",
   "execution_count": 4,
   "metadata": {},
   "outputs": [
    {
     "name": "stdout",
     "output_type": "stream",
     "text": [
      "Factorial of 5 is 120\n"
     ]
    }
   ],
   "source": [
    "import factorial_module\n",
    "\n",
    "number = 5\n",
    "print(\"Factorial of\", number, \"is\", factorial_module.factorial(number))\n"
   ]
  },
  {
   "cell_type": "markdown",
   "metadata": {},
   "source": [
    "### 06) Write a program to pick a random element from a given list"
   ]
  },
  {
   "cell_type": "code",
   "execution_count": 5,
   "metadata": {},
   "outputs": [
    {
     "name": "stdout",
     "output_type": "stream",
     "text": [
      "Random element: 30\n"
     ]
    }
   ],
   "source": [
    "import random\n",
    "\n",
    "my_list = [10, 20, 30, 40, 50]\n",
    "random_element = random.choice(my_list)\n",
    "print(\"Random element:\", random_element)\n"
   ]
  },
  {
   "cell_type": "markdown",
   "metadata": {},
   "source": [
    "### 07) Write a program to calculate the circle, triangle, and rectangle area using the math module"
   ]
  },
  {
   "cell_type": "code",
   "execution_count": 6,
   "metadata": {},
   "outputs": [
    {
     "name": "stdout",
     "output_type": "stream",
     "text": [
      "Area of the circle: 78.53981633974483\n",
      "Area of the triangle: 40.0\n",
      "Area of the rectangle: 35\n"
     ]
    }
   ],
   "source": [
    "import math\n",
    "\n",
    "# Circle\n",
    "radius = 5\n",
    "circle_area = math.pi * (radius ** 2)\n",
    "print(\"Area of the circle:\", circle_area)\n",
    "\n",
    "# Triangle (Area = 0.5 * base * height)\n",
    "base = 10\n",
    "height = 8\n",
    "triangle_area = 0.5 * base * height\n",
    "print(\"Area of the triangle:\", triangle_area)\n",
    "\n",
    "# Rectangle (Area = width * height)\n",
    "width = 7\n",
    "height = 5\n",
    "rectangle_area = width * height\n",
    "print(\"Area of the rectangle:\", rectangle_area)\n"
   ]
  },
  {
   "cell_type": "markdown",
   "metadata": {},
   "source": [
    "### 08) Write a program to print the current date and time."
   ]
  },
  {
   "cell_type": "code",
   "execution_count": 7,
   "metadata": {},
   "outputs": [
    {
     "name": "stdout",
     "output_type": "stream",
     "text": [
      "Current date and time: 2024-11-11 16:47:48.078985\n"
     ]
    }
   ],
   "source": [
    "from datetime import datetime\n",
    "\n",
    "current_datetime = datetime.now()\n",
    "print(\"Current date and time:\", current_datetime)"
   ]
  },
  {
   "cell_type": "markdown",
   "metadata": {},
   "source": [
    "### 09) Write a program to find the day of the week of a given date."
   ]
  },
  {
   "cell_type": "code",
   "execution_count": 8,
   "metadata": {},
   "outputs": [
    {
     "name": "stdout",
     "output_type": "stream",
     "text": [
      "On 2004-10-18 00:00:00 it was:  Monday\n"
     ]
    }
   ],
   "source": [
    "import datetime as dt\n",
    "d1 =dt.datetime.strptime(input(\"Enter a date in YYYY-MM-DD format: \"),\"%Y-%m-%d\")\n",
    "print(f\"On {d1} it was: \",d1.strftime(\"%A\"))"
   ]
  },
  {
   "cell_type": "markdown",
   "metadata": {},
   "source": [
    "### 10) Write a program to print the person's age in years and also print how many days remain for the next birthday"
   ]
  },
  {
   "cell_type": "code",
   "execution_count": 9,
   "metadata": {},
   "outputs": [
    {
     "name": "stdout",
     "output_type": "stream",
     "text": [
      "Age: 20 years\n",
      "Days until next birthday: 340\n"
     ]
    }
   ],
   "source": [
    "from datetime import datetime\n",
    "\n",
    "birth_date_input = input(\"Enter birth date in YYYY-MM-DD format: \")\n",
    "birth_date = datetime.strptime(birth_date_input, \"%Y-%m-%d\")\n",
    "today = datetime.now()\n",
    "\n",
    "\n",
    "age = today.year - birth_date.year\n",
    "if today < birth_date.replace(year=today.year):\n",
    "    age -= 1\n",
    "print(\"Age:\", age, \"years\")\n",
    "\n",
    "next_birthday = birth_date.replace(year=today.year)\n",
    "if today > next_birthday:\n",
    "    next_birthday = next_birthday.replace(year=today.year + 1)\n",
    "days_until_birthday = (next_birthday - today).days\n",
    "print(\"Days until next birthday:\", days_until_birthday)\n"
   ]
  },
  {
   "cell_type": "markdown",
   "metadata": {},
   "source": [
    "### 11) Write a program to create a custom module to define a function to check for odd or even number"
   ]
  },
  {
   "cell_type": "code",
   "execution_count": 10,
   "metadata": {},
   "outputs": [
    {
     "name": "stdout",
     "output_type": "stream",
     "text": [
      "663 is odd.\n"
     ]
    }
   ],
   "source": [
    "import odd_even_module\n",
    "\n",
    "number = int(input(\"Enter a number: \"))\n",
    "if odd_even_module.is_even(number):\n",
    "    print(f\"{number} is even.\")\n",
    "else:\n",
    "    print(f\"{number} is odd.\")\n"
   ]
  }
 ],
 "metadata": {
  "colab": {
   "provenance": []
  },
  "kernelspec": {
   "display_name": "Python 3 (ipykernel)",
   "language": "python",
   "name": "python3"
  },
  "language_info": {
   "codemirror_mode": {
    "name": "ipython",
    "version": 3
   },
   "file_extension": ".py",
   "mimetype": "text/x-python",
   "name": "python",
   "nbconvert_exporter": "python",
   "pygments_lexer": "ipython3",
   "version": "3.12.4"
  }
 },
 "nbformat": 4,
 "nbformat_minor": 4
}

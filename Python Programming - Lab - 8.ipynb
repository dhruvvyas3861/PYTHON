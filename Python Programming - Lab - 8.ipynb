{
 "cells": [
  {
   "cell_type": "markdown",
   "metadata": {},
   "source": [
    "<a href='https://www.darshan.ac.in/'> <img src='https://www.darshan.ac.in/Content/media/DU_Logo.svg' width=\"250\" height=\"300\"/></a>\n",
    "<pre>\n",
    "<center><b><h1>Python Programming - 2304CS402</b></center>\n",
    "<center><b><h1>Lab - 8</b></center>    \n",
    "<pre>"
   ]
  },
  {
   "cell_type": "markdown",
   "metadata": {},
   "source": [
    "# Understand Working of dictionary "
   ]
  },
  {
   "cell_type": "markdown",
   "metadata": {},
   "source": [
    "### 01) Write a program to create a dictionary for N values and print the size of the dictionary"
   ]
  },
  {
   "cell_type": "code",
   "execution_count": 2,
   "metadata": {},
   "outputs": [
    {
     "name": "stdout",
     "output_type": "stream",
     "text": [
      "Dictionary: {'abc': 'python', 'bcd': 'python2'}\n",
      "Size of the dictionary: 2\n"
     ]
    }
   ],
   "source": [
    "\n",
    "n = int(input(\"Enter the number of key-value pairs: \"))\n",
    "dictionary = {}\n",
    "\n",
    "\n",
    "for i in range(n):\n",
    "    key = input(f\"Enter key {i + 1}: \")\n",
    "    value = input(f\"Enter value for key {i + 1}: \")\n",
    "    dictionary[key] = value\n",
    "\n",
    "\n",
    "print(\"Dictionary:\", dictionary)\n",
    "print(\"Size of the dictionary:\", len(dictionary))\n"
   ]
  },
  {
   "cell_type": "markdown",
   "metadata": {},
   "source": [
    "### 02) Write a program to create a dictionary from a string."
   ]
  },
  {
   "cell_type": "code",
   "execution_count": 6,
   "metadata": {},
   "outputs": [
    {
     "name": "stdout",
     "output_type": "stream",
     "text": [
      "Dictionary from the string: {'D': 1, 'a': 2, 'r': 1, 's': 1, 'h': 1, 'n': 1}\n"
     ]
    }
   ],
   "source": [
    "\n",
    "string = input(\"Enter a string: \")\n",
    "char_count = {}\n",
    "\n",
    "for char in string:\n",
    "    if char in char_count:\n",
    "        char_count[char] += 1\n",
    "    else:\n",
    "        char_count[char] = 1\n",
    "\n",
    "print(\"Dictionary from the string:\", char_count)\n"
   ]
  },
  {
   "cell_type": "markdown",
   "metadata": {},
   "source": [
    "### 03) Write a program to sort a dictionary by key in ascending and descending order"
   ]
  },
  {
   "cell_type": "code",
   "execution_count": 7,
   "metadata": {},
   "outputs": [
    {
     "name": "stdout",
     "output_type": "stream",
     "text": [
      "Dictionary sorted by key (ascending): {'abc': 'python2', 'xyz': 'python1'}\n",
      "Dictionary sorted by key (descending): {'xyz': 'python1', 'abc': 'python2'}\n"
     ]
    }
   ],
   "source": [
    "\n",
    "n = int(input(\"Enter the number of key-value pairs: \"))\n",
    "dictionary = {}\n",
    "\n",
    "for i in range(n):\n",
    "    key = input(f\"Enter key {i + 1}: \")\n",
    "    value = input(f\"Enter value for key {i + 1}: \")\n",
    "    dictionary[key] = value\n",
    "\n",
    "ascending_dict = dict(sorted(dictionary.items()))\n",
    "print(\"Dictionary sorted by key (ascending):\", ascending_dict)\n",
    "\n",
    "descending_dict = dict(sorted(dictionary.items(), reverse=True))\n",
    "print(\"Dictionary sorted by key (descending):\", descending_dict)\n"
   ]
  },
  {
   "cell_type": "markdown",
   "metadata": {},
   "source": [
    "### 04) Write a program to enter a key and add a key to a dictionary if it does not exist."
   ]
  },
  {
   "cell_type": "code",
   "execution_count": 8,
   "metadata": {},
   "outputs": [
    {
     "name": "stdout",
     "output_type": "stream",
     "text": [
      "Key added.\n",
      "Updated dictionary: {'abc': 'python1', 'xyz': 'python2', 'mno': 'python3', 'xyzz': 'python4'}\n"
     ]
    }
   ],
   "source": [
    "\n",
    "n = int(input(\"Enter the number of key-value pairs: \"))\n",
    "dictionary = {}\n",
    "\n",
    "\n",
    "for i in range(n):\n",
    "    key = input(f\"Enter key {i + 1}: \")\n",
    "    value = input(f\"Enter value for key {i + 1}: \")\n",
    "    dictionary[key] = value\n",
    "\n",
    "new_key = input(\"Enter a key to add: \")\n",
    "new_value = input(\"Enter the value for the new key: \")\n",
    "\n",
    "if new_key not in dictionary:\n",
    "    dictionary[new_key] = new_value\n",
    "    print(\"Key added.\")\n",
    "else:\n",
    "    print(\"Key already exists.\")\n",
    "\n",
    "print(\"Updated dictionary:\", dictionary)\n"
   ]
  },
  {
   "cell_type": "markdown",
   "metadata": {},
   "source": [
    "### 05) Write a program to sort a dictionary by value in ascending and descending order."
   ]
  },
  {
   "cell_type": "code",
   "execution_count": 11,
   "metadata": {},
   "outputs": [
    {
     "name": "stdout",
     "output_type": "stream",
     "text": [
      "Dictionary sorted by value (ascending): {'xyz': 2, 'abc': 11, 'mno': 44}\n",
      "Dictionary sorted by value (descending): {'mno': 44, 'abc': 11, 'xyz': 2}\n"
     ]
    }
   ],
   "source": [
    "\n",
    "n = int(input(\"Enter the number of key-value pairs: \"))\n",
    "dictionary = {}\n",
    "\n",
    "\n",
    "for i in range(n):\n",
    "    key = input(f\"Enter key {i + 1}: \")\n",
    "    value = int(input(f\"Enter value for key {i + 1} (integer): \"))\n",
    "    dictionary[key] = value\n",
    "\n",
    "\n",
    "ascending_dict = dict(sorted(dictionary.items(), key=lambda item: item[1]))\n",
    "print(\"Dictionary sorted by value (ascending):\", ascending_dict)\n",
    "\n",
    "\n",
    "descending_dict = dict(sorted(dictionary.items(), key=lambda item: item[1], reverse=True))\n",
    "print(\"Dictionary sorted by value (descending):\", descending_dict)\n"
   ]
  },
  {
   "cell_type": "markdown",
   "metadata": {},
   "source": [
    "### 06) Write a program to enter a key and to remove a key from a dictionary if it exists. "
   ]
  },
  {
   "cell_type": "code",
   "execution_count": 12,
   "metadata": {},
   "outputs": [
    {
     "name": "stdout",
     "output_type": "stream",
     "text": [
      "Key removed.\n",
      "Updated dictionary: {'mno': 'python2'}\n"
     ]
    }
   ],
   "source": [
    "\n",
    "n = int(input(\"Enter the number of key-value pairs: \"))\n",
    "dictionary = {}\n",
    "\n",
    "for i in range(n):\n",
    "    key = input(f\"Enter key {i + 1}: \")\n",
    "    value = input(f\"Enter value for key {i + 1}: \")\n",
    "    dictionary[key] = value\n",
    "\n",
    "key_to_remove = input(\"Enter the key to remove: \")\n",
    "\n",
    "if key_to_remove in dictionary:\n",
    "    del dictionary[key_to_remove]\n",
    "    print(\"Key removed.\")\n",
    "else:\n",
    "    print(\"Key not found.\")\n",
    "\n",
    "print(\"Updated dictionary:\", dictionary)\n"
   ]
  },
  {
   "cell_type": "markdown",
   "metadata": {},
   "source": [
    "### 07)  Write a program to merge two dictionaries given by the user into one dictionary"
   ]
  },
  {
   "cell_type": "code",
   "execution_count": 13,
   "metadata": {},
   "outputs": [
    {
     "name": "stdout",
     "output_type": "stream",
     "text": [
      "Merged dictionary: {'abc': 'python1', 'xyz': 'python'}\n"
     ]
    }
   ],
   "source": [
    "\n",
    "n1 = int(input(\"Enter the number of key-value pairs for the first dictionary: \"))\n",
    "dict1 = {}\n",
    "for i in range(n1):\n",
    "    key = input(f\"Enter key {i + 1} for dictionary 1: \")\n",
    "    value = input(f\"Enter value for key {i + 1}: \")\n",
    "    dict1[key] = value\n",
    "\n",
    "n2 = int(input(\"Enter the number of key-value pairs for the second dictionary: \"))\n",
    "dict2 = {}\n",
    "for i in range(n2):\n",
    "    key = input(f\"Enter key {i + 1} for dictionary 2: \")\n",
    "    value = input(f\"Enter value for key {i + 1}: \")\n",
    "    dict2[key] = value\n",
    "\n",
    "\n",
    "merged_dict = dict1.copy()\n",
    "merged_dict.update(dict2)\n",
    "\n",
    "print(\"Merged dictionary:\", merged_dict)\n"
   ]
  },
  {
   "cell_type": "markdown",
   "metadata": {},
   "source": [
    "### 08) Write a program to convert two lists into a dictionary."
   ]
  },
  {
   "cell_type": "code",
   "execution_count": 14,
   "metadata": {},
   "outputs": [
    {
     "name": "stdout",
     "output_type": "stream",
     "text": [
      "Dictionary from the two lists: {'abc': 'python1', 'mno': 'python2'}\n"
     ]
    }
   ],
   "source": [
    "\n",
    "keys = input(\"Enter elements for the first list (keys) separated by spaces: \").split()\n",
    "\n",
    "values = input(\"Enter elements for the second list (values) separated by spaces: \").split()\n",
    "\n",
    "\n",
    "dictionary = dict(zip(keys, values))\n",
    "\n",
    "print(\"Dictionary from the two lists:\", dictionary)\n"
   ]
  }
 ],
 "metadata": {
  "kernelspec": {
   "display_name": "Python 3 (ipykernel)",
   "language": "python",
   "name": "python3"
  },
  "language_info": {
   "codemirror_mode": {
    "name": "ipython",
    "version": 3
   },
   "file_extension": ".py",
   "mimetype": "text/x-python",
   "name": "python",
   "nbconvert_exporter": "python",
   "pygments_lexer": "ipython3",
   "version": "3.12.4"
  }
 },
 "nbformat": 4,
 "nbformat_minor": 4
}

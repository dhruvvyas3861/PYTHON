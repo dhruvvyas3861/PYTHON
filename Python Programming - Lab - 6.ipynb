{
 "cells": [
  {
   "cell_type": "markdown",
   "metadata": {},
   "source": [
    "<a href='https://www.darshan.ac.in/'> <img src='https://www.darshan.ac.in/Content/media/DU_Logo.svg' width=\"250\" height=\"300\"/></a>\n",
    "<pre>\n",
    "<center><b><h1>Python Programming - 2304CS402</b></center>\n",
    "<center><b><h1>Lab - 6</b></center>    \n",
    "<pre>"
   ]
  },
  {
   "cell_type": "markdown",
   "metadata": {},
   "source": [
    "# Understand Working of tuple"
   ]
  },
  {
   "cell_type": "markdown",
   "metadata": {},
   "source": [
    "### 01) . Write a program to enter values and reverse the tuple"
   ]
  },
  {
   "cell_type": "code",
   "execution_count": 3,
   "metadata": {},
   "outputs": [
    {
     "name": "stdout",
     "output_type": "stream",
     "text": [
      "('10', '20', '30', '40', '50')\n",
      "Reversed tuple: ('50', '40', '30', '20', '10')\n"
     ]
    }
   ],
   "source": [
    "values = input(\"Enter values separated by spaces: \")\n",
    "tuple_data = tuple(values.split())\n",
    "print(tuple_data)\n",
    "reversed_tuple = tuple_data[::-1]\n",
    "\n",
    "\n",
    "print(\"Reversed tuple:\", reversed_tuple)\n"
   ]
  },
  {
   "cell_type": "markdown",
   "metadata": {},
   "source": [
    "### 02) Write a program to remove duplicate values from the tuple."
   ]
  },
  {
   "cell_type": "code",
   "execution_count": 4,
   "metadata": {},
   "outputs": [
    {
     "name": "stdout",
     "output_type": "stream",
     "text": [
      "('1', '2', '3', '4', '1', '5', '2')\n",
      "Tuple after removing duplicates: ('1', '3', '5', '4', '2')\n"
     ]
    }
   ],
   "source": [
    "\n",
    "values = input(\"Enter values separated by spaces: \")\n",
    "tuple_data = tuple(values.split())\n",
    "\n",
    "print(tuple_data)\n",
    "unique_tuple = tuple(set(tuple_data))\n",
    "\n",
    "print(\"Tuple after removing duplicates:\", unique_tuple)\n"
   ]
  },
  {
   "cell_type": "markdown",
   "metadata": {},
   "source": [
    "### 03) Write a program to check if the tuple is distinct or not."
   ]
  },
  {
   "cell_type": "code",
   "execution_count": 6,
   "metadata": {},
   "outputs": [
    {
     "name": "stdout",
     "output_type": "stream",
     "text": [
      "('10', '20', '30', '40')\n",
      "The tuple is distinct.\n"
     ]
    }
   ],
   "source": [
    "\n",
    "values = input(\"Enter values separated by spaces: \")\n",
    "tuple_data = tuple(values.split())\n",
    "print(tuple_data)\n",
    "\n",
    "is_distinct = len(tuple_data) == len(set(tuple_data))\n",
    "\n",
    "# Display result\n",
    "if is_distinct:\n",
    "    print(\"The tuple is distinct.\")\n",
    "else:\n",
    "    print(\"The tuple is not distinct.\")\n"
   ]
  },
  {
   "cell_type": "markdown",
   "metadata": {},
   "source": [
    "### 04) WAP to find Tuples with positive elements in List of tuples."
   ]
  },
  {
   "cell_type": "code",
   "execution_count": 38,
   "metadata": {},
   "outputs": [
    {
     "name": "stdout",
     "output_type": "stream",
     "text": [
      "[(4, 5), (5, 10)]\n"
     ]
    }
   ],
   "source": [
    "l1=[(4,5),(-3,5),(5,10)]\n",
    "pos=[]\n",
    "for i in l1:\n",
    "   for j in i:\n",
    "       if j<0:\n",
    "           break\n",
    "   else:\n",
    "        pos.append(i)\n",
    "print(pos)"
   ]
  },
  {
   "cell_type": "markdown",
   "metadata": {},
   "source": [
    "### 05) Write a program to find tuples that have all elements divisible by k from a list of tuples"
   ]
  },
  {
   "cell_type": "code",
   "execution_count": 5,
   "metadata": {},
   "outputs": [
    {
     "name": "stdout",
     "output_type": "stream",
     "text": [
      "Tuples where all elements are divisible by k: [(3, 6, 9), (9, 12, 15)]\n"
     ]
    }
   ],
   "source": [
    "\n",
    "n = int(input(\"Enter number of tuples: \"))\n",
    "k = int(input(\"Enter the value of k: \"))\n",
    "list_of_tuples = []\n",
    "\n",
    "for i in range(n):\n",
    "    tuple_values = tuple(map(int, input(f\"Enter values for tuple {i + 1} separated by spaces: \").split()))\n",
    "    list_of_tuples.append(tuple_values)\n",
    "\n",
    "\n",
    "divisible_tuples = [t for t in list_of_tuples if all(x % k == 0 for x in t)]\n",
    "\n",
    "print(\"Tuples where all elements are divisible by k:\", divisible_tuples)\n"
   ]
  }
 ],
 "metadata": {
  "kernelspec": {
   "display_name": "Python 3 (ipykernel)",
   "language": "python",
   "name": "python3"
  },
  "language_info": {
   "codemirror_mode": {
    "name": "ipython",
    "version": 3
   },
   "file_extension": ".py",
   "mimetype": "text/x-python",
   "name": "python",
   "nbconvert_exporter": "python",
   "pygments_lexer": "ipython3",
   "version": "3.12.4"
  }
 },
 "nbformat": 4,
 "nbformat_minor": 4
}

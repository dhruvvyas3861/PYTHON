{
 "cells": [
  {
   "cell_type": "markdown",
   "metadata": {},
   "source": [
    "<a href='https://www.darshan.ac.in/'> <img src='https://www.darshan.ac.in/Content/media/DU_Logo.svg' width=\"250\" height=\"300\"/></a>\n",
    "<pre>\n",
    "<center><b><h1>Python Programming - 2304CS402</b></center>\n",
    "<center><b><h1>Lab - 7</b></center>    \n",
    "<pre>"
   ]
  },
  {
   "cell_type": "markdown",
   "metadata": {},
   "source": [
    "# Understand Working of set"
   ]
  },
  {
   "cell_type": "markdown",
   "metadata": {},
   "source": [
    "### 01) Write a program to create a set using the list of elements and find its size"
   ]
  },
  {
   "cell_type": "code",
   "execution_count": 1,
   "metadata": {},
   "outputs": [
    {
     "name": "stdout",
     "output_type": "stream",
     "text": [
      "Set: {'30', '50', '40', '10', '20'}\n",
      "Size of the set: 5\n"
     ]
    }
   ],
   "source": [
    "\n",
    "elements = input(\"Enter elements separated by spaces: \").split()\n",
    "\n",
    "set_data = set(elements)\n",
    "\n",
    "print(\"Set:\", set_data)\n",
    "print(\"Size of the set:\", len(set_data))\n"
   ]
  },
  {
   "cell_type": "markdown",
   "metadata": {},
   "source": [
    "### 02) WWrite a program to find the maximum and minimum elements from a given set."
   ]
  },
  {
   "cell_type": "code",
   "execution_count": 2,
   "metadata": {},
   "outputs": [
    {
     "name": "stdout",
     "output_type": "stream",
     "text": [
      "{40, 10, 50, 20, 30}\n",
      "Maximum element: 50\n",
      "Minimum element: 10\n"
     ]
    }
   ],
   "source": [
    "\n",
    "elements = input(\"Enter elements separated by spaces (numbers): \").split()\n",
    "set_data = {int(x) for x in elements}  # Convert to a set of integers\n",
    "\n",
    "\n",
    "max_element = max(set_data)\n",
    "min_element = min(set_data)\n",
    "\n",
    "print(set_data)\n",
    "print(\"Maximum element:\", max_element)\n",
    "print(\"Minimum element:\", min_element)\n"
   ]
  },
  {
   "cell_type": "markdown",
   "metadata": {},
   "source": [
    "### 03) Write a program to remove an element from a set given by the user"
   ]
  },
  {
   "cell_type": "code",
   "execution_count": 5,
   "metadata": {},
   "outputs": [
    {
     "name": "stdout",
     "output_type": "stream",
     "text": [
      "{'30', '50', '40', '10', '20'}\n",
      "Set after removal: {'50', '40', '10', '20'}\n"
     ]
    }
   ],
   "source": [
    "\n",
    "elements = input(\"Enter elements separated by spaces: \").split()\n",
    "set_data = set(elements)\n",
    "\n",
    "print(set_data)\n",
    "element_to_remove = input(\"Enter the element to remove: \")\n",
    "\n",
    "\n",
    "if element_to_remove in set_data:\n",
    "    set_data.remove(element_to_remove)\n",
    "    print(\"Set after removal:\", set_data)\n",
    "else:\n",
    "    print(\"Element not found in the set.\")\n"
   ]
  },
  {
   "cell_type": "markdown",
   "metadata": {},
   "source": [
    "### 04) Write a program to convert a given set into a tuple and a tuple into a set."
   ]
  },
  {
   "cell_type": "code",
   "execution_count": 6,
   "metadata": {},
   "outputs": [
    {
     "name": "stdout",
     "output_type": "stream",
     "text": [
      "Tuple from the set: ('30', '50', '40', '10', '20')\n",
      "Set from the tuple: {'11', '33', '22'}\n"
     ]
    }
   ],
   "source": [
    "\n",
    "elements = input(\"Enter elements separated by spaces: \").split()\n",
    "set_data = set(elements)\n",
    "\n",
    "\n",
    "tuple_data = tuple(set_data)\n",
    "print(\"Tuple from the set:\", tuple_data)\n",
    "\n",
    "\n",
    "tuple_elements = input(\"Enter elements for a tuple separated by spaces: \").split()\n",
    "tuple_data = tuple(tuple_elements)\n",
    "\n",
    "\n",
    "set_from_tuple = set(tuple_data)\n",
    "print(\"Set from the tuple:\", set_from_tuple)\n"
   ]
  },
  {
   "cell_type": "markdown",
   "metadata": {},
   "source": [
    "### 05) Write a program to perform union, intersection, difference, and symmetric difference operations for given two sets."
   ]
  },
  {
   "cell_type": "code",
   "execution_count": 7,
   "metadata": {},
   "outputs": [
    {
     "name": "stdout",
     "output_type": "stream",
     "text": [
      "Union of the sets: {'45', '66', '30', '50', '88', '40', '10', '20'}\n",
      "Intersection of the sets: {'30', '50'}\n",
      "Difference (set1 - set2): {'10', '20', '40'}\n",
      "Symmetric difference of the sets: {'45', '88', '40', '66', '10', '20'}\n"
     ]
    }
   ],
   "source": [
    "\n",
    "elements1 = input(\"Enter elements for the first set separated by spaces: \").split()\n",
    "set1 = set(elements1)\n",
    "\n",
    "\n",
    "elements2 = input(\"Enter elements for the second set separated by spaces: \").split()\n",
    "set2 = set(elements2)\n",
    "\n",
    "\n",
    "union_result = set1 | set2\n",
    "intersection_result = set1 & set2\n",
    "difference_result = set1 - set2\n",
    "symmetric_difference_result = set1 ^ set2\n",
    "\n",
    "\n",
    "print(\"Union of the sets:\", union_result)\n",
    "print(\"Intersection of the sets:\", intersection_result)\n",
    "print(\"Difference (set1 - set2):\", difference_result)\n",
    "print(\"Symmetric difference of the sets:\", symmetric_difference_result)\n"
   ]
  }
 ],
 "metadata": {
  "kernelspec": {
   "display_name": "Python 3 (ipykernel)",
   "language": "python",
   "name": "python3"
  },
  "language_info": {
   "codemirror_mode": {
    "name": "ipython",
    "version": 3
   },
   "file_extension": ".py",
   "mimetype": "text/x-python",
   "name": "python",
   "nbconvert_exporter": "python",
   "pygments_lexer": "ipython3",
   "version": "3.12.4"
  }
 },
 "nbformat": 4,
 "nbformat_minor": 4
}

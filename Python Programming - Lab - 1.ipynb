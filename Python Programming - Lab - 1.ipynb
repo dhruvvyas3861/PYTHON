{
 "cells": [
  {
   "cell_type": "markdown",
   "metadata": {},
   "source": [
    "<a href='https://www.darshan.ac.in/'> <img src='https://www.darshan.ac.in/Content/media/DU_Logo.svg' width=\"250\" height=\"300\"/></a>\n",
    "<pre>\n",
    "<center><b><h1>Python Programming - 2304CS402</b></center>\n",
    "<center><b><h1>Lab - 1</b></center>    \n",
    "<pre>"
   ]
  },
  {
   "cell_type": "markdown",
   "metadata": {},
   "source": [
    "# Basic programs to understand the working of python."
   ]
  },
  {
   "cell_type": "markdown",
   "metadata": {},
   "source": [
    "### 01) WAP to print “Hello World”"
   ]
  },
  {
   "cell_type": "code",
   "execution_count": 1,
   "metadata": {},
   "outputs": [
    {
     "name": "stdout",
     "output_type": "stream",
     "text": [
      "Hello World\n"
     ]
    }
   ],
   "source": [
    "print(\"Hello World\")"
   ]
  },
  {
   "cell_type": "markdown",
   "metadata": {},
   "source": [
    "### 02) WAP to print your address i) using single print ii) using multiple print"
   ]
  },
  {
   "cell_type": "code",
   "execution_count": 2,
   "metadata": {},
   "outputs": [
    {
     "name": "stdout",
     "output_type": "stream",
     "text": [
      "Jamngar\n",
      "361001\n",
      "Jamnagar \n",
      " Gujrat\n"
     ]
    }
   ],
   "source": [
    "print(\"Jamngar\")\n",
    "print(\"361001\")\n",
    "print(\"Jamnagar \\n Gujrat\")"
   ]
  },
  {
   "cell_type": "markdown",
   "metadata": {},
   "source": [
    "### 03) WAP to print addition of 2 numbers (without input function)"
   ]
  },
  {
   "cell_type": "code",
   "execution_count": 3,
   "metadata": {},
   "outputs": [
    {
     "name": "stdout",
     "output_type": "stream",
     "text": [
      "30\n"
     ]
    }
   ],
   "source": [
    "a=10\n",
    "b=20\n",
    "print(a+b)"
   ]
  },
  {
   "cell_type": "markdown",
   "metadata": {},
   "source": [
    "### 04) WAP to calculate and print average of 2 numbers (without input function)"
   ]
  },
  {
   "cell_type": "code",
   "execution_count": 5,
   "metadata": {},
   "outputs": [
    {
     "name": "stdout",
     "output_type": "stream",
     "text": [
      "15.0\n"
     ]
    }
   ],
   "source": [
    "a=10\n",
    "b=20\n",
    "print((a+b)/2)"
   ]
  },
  {
   "cell_type": "markdown",
   "metadata": {},
   "source": [
    "### 05) WAP to add two number entered by user."
   ]
  },
  {
   "cell_type": "code",
   "execution_count": 2,
   "metadata": {},
   "outputs": [
    {
     "name": "stdout",
     "output_type": "stream",
     "text": [
      "24\n"
     ]
    }
   ],
   "source": [
    "a=int(input(\"Enter a:\"))\n",
    "b=int(input(\"Enter b:\"))\n",
    "print(a+b)"
   ]
  },
  {
   "cell_type": "markdown",
   "metadata": {},
   "source": [
    "### 06) Write a program to calculate the area of a circle"
   ]
  },
  {
   "cell_type": "code",
   "execution_count": 3,
   "metadata": {},
   "outputs": [
    {
     "name": "stdout",
     "output_type": "stream",
     "text": [
      "Area : 314.0\n"
     ]
    }
   ],
   "source": [
    "pi=3.14\n",
    "r=int(input(\"Enter Radius :\"))\n",
    "area=pi*r*r\n",
    "print(\"Area :\",area)"
   ]
  },
  {
   "cell_type": "markdown",
   "metadata": {},
   "source": [
    "### 7) Write a program to take 4 subjects' marks from the user and calculate total marks & Percentage."
   ]
  },
  {
   "cell_type": "code",
   "execution_count": 4,
   "metadata": {},
   "outputs": [
    {
     "name": "stdout",
     "output_type": "stream",
     "text": [
      "373\n",
      "93.25\n"
     ]
    }
   ],
   "source": [
    "dm=int(input(\"Enter Marks of DM\"))\n",
    "ds=int(input(\"Enter Marks of DS\"))\n",
    "oopj=int(input(\"Enter Marks of OOPJ\"))\n",
    "dbms=int(input(\"Enter Marks of DBMS\"))\n",
    "total=dm+ds+oopj+dbms\n",
    "avg=total/4\n",
    "print(total)\n",
    "print(avg)\n"
   ]
  },
  {
   "cell_type": "markdown",
   "metadata": {},
   "source": [
    "### 08) WAP to calculate Area of Triangle (hint: a = h * b * 0.5)"
   ]
  },
  {
   "cell_type": "code",
   "execution_count": 5,
   "metadata": {},
   "outputs": [
    {
     "name": "stdout",
     "output_type": "stream",
     "text": [
      "375.0\n"
     ]
    }
   ],
   "source": [
    "h=int(input(\"Enter h:\"))\n",
    "b=int(input(\"Enter B\"))\n",
    "a=h*b*0.5\n",
    "print(a)"
   ]
  },
  {
   "cell_type": "markdown",
   "metadata": {},
   "source": [
    "### 9. Write a program to calculate the area of a rectangle."
   ]
  },
  {
   "cell_type": "code",
   "execution_count": 8,
   "metadata": {},
   "outputs": [
    {
     "name": "stdout",
     "output_type": "stream",
     "text": [
      "Area Is :500\n"
     ]
    }
   ],
   "source": [
    "width = int(input(\"Enter Width :\"))\n",
    "height = int(input(\"Enter Height :\"))\n",
    "area = width * height\n",
    "print(f\"Area Is :{area}\")\n"
   ]
  },
  {
   "cell_type": "markdown",
   "metadata": {},
   "source": [
    "### 10) WAP to calculate simple interest."
   ]
  },
  {
   "cell_type": "code",
   "execution_count": 3,
   "metadata": {},
   "outputs": [
    {
     "name": "stdout",
     "output_type": "stream",
     "text": [
      "2.0\n"
     ]
    }
   ],
   "source": [
    "p=int(input(\"Enter P:\"))\n",
    "r=int(input(\"Enter r:\"))\n",
    "n=int(input(\"Enter n:\"))\n",
    "intrest=(p*r*n)/100\n",
    "print(intrest)\n"
   ]
  },
  {
   "cell_type": "markdown",
   "metadata": {},
   "source": [
    "### 11) Write a program to print a multiplication table of a given number"
   ]
  },
  {
   "cell_type": "code",
   "execution_count": 8,
   "metadata": {},
   "outputs": [
    {
     "name": "stdout",
     "output_type": "stream",
     "text": [
      "5  * 1 =  5\n",
      "5  * 2 =  10\n",
      "5  * 3 =  15\n",
      "5  * 4 =  20\n",
      "5  * 5 =  25\n",
      "5  * 6 =  30\n",
      "5  * 7 =  35\n",
      "5  * 8 =  40\n",
      "5  * 9 =  45\n",
      "5  * 10 =  50\n"
     ]
    }
   ],
   "source": [
    "no=int(input(\"Enter Number :\"))\n",
    "print (no,\" * 1 = \",no*1)\n",
    "print (no,\" * 2 = \",no*2)\n",
    "print (no,\" * 3 = \",no*3)\n",
    "print (no,\" * 4 = \",no*4)\n",
    "print (no,\" * 5 = \",no*5)\n",
    "print (no,\" * 6 = \",no*6)\n",
    "print (no,\" * 7 = \",no*7)\n",
    "print (no,\" * 8 = \",no*8)\n",
    "print (no,\" * 9 = \",no*9)\n",
    "print (no,\" * 10 = \",no*10)\n",
    "\n"
   ]
  },
  {
   "cell_type": "markdown",
   "metadata": {},
   "source": [
    "### 12) Write a program to convert Celsius to Fahrenheit and vice versa.(Hint- F ((9*C/5)+32)"
   ]
  },
  {
   "cell_type": "code",
   "execution_count": 10,
   "metadata": {},
   "outputs": [
    {
     "name": "stdout",
     "output_type": "stream",
     "text": [
      "Ferenheit : 59.0\n"
     ]
    }
   ],
   "source": [
    "\n",
    "c=int(input(\"Enter C:\"))\n",
    "f=c*(9/5)+32\n",
    "print(\"Ferenheit :\",f)"
   ]
  },
  {
   "cell_type": "code",
   "execution_count": 12,
   "metadata": {},
   "outputs": [
    {
     "name": "stdout",
     "output_type": "stream",
     "text": [
      "C  : 15.0\n"
     ]
    }
   ],
   "source": [
    "\n",
    "F=int(input(\"Enter F:\"))\n",
    "c=(f-32)*(5/9)\n",
    "print(\"C  :\",c)"
   ]
  }
 ],
 "metadata": {
  "kernelspec": {
   "display_name": "Python 3 (ipykernel)",
   "language": "python",
   "name": "python3"
  },
  "language_info": {
   "codemirror_mode": {
    "name": "ipython",
    "version": 3
   },
   "file_extension": ".py",
   "mimetype": "text/x-python",
   "name": "python",
   "nbconvert_exporter": "python",
   "pygments_lexer": "ipython3",
   "version": "3.12.4"
  },
  "vscode": {
   "interpreter": {
    "hash": "31f2aee4e71d21fbe5cf8b01ff0e069b9275f58929596ceb00d14d90e3e16cd6"
   }
  }
 },
 "nbformat": 4,
 "nbformat_minor": 4
}

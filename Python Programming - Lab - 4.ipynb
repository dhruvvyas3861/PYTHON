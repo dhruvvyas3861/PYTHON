{
 "cells": [
  {
   "cell_type": "markdown",
   "metadata": {},
   "source": [
    "\n",
    "<a href='https://www.darshan.ac.in/'> <img src='https://www.darshan.ac.in/Content/media/DU_Logo.svg' width=\"250\" height=\"300\"/></a>\n",
    "<pre>\n",
    "<center><b><h1>Python Programming - 2304CS402</b></center>\n",
    "<center><b><h1>Lab - 4</b></center>    \n",
    "<pre>"
   ]
  },
  {
   "cell_type": "markdown",
   "metadata": {},
   "source": [
    "# String Handling in python."
   ]
  },
  {
   "cell_type": "markdown",
   "metadata": {},
   "source": [
    "### 01) Write a program to find the length of a string with and without using the len function."
   ]
  },
  {
   "cell_type": "code",
   "execution_count": 2,
   "metadata": {},
   "outputs": [
    {
     "name": "stdout",
     "output_type": "stream",
     "text": [
      "String is Darshan and  Length  is 7\n"
     ]
    }
   ],
   "source": [
    "str=input(\"Enter String :\")\n",
    "length=0\n",
    "for i in str[::-1]:\n",
    "    length = length + 1\n",
    "print(f\"String is {str} and  Length  is {length}\")"
   ]
  },
  {
   "cell_type": "markdown",
   "metadata": {},
   "source": [
    "### 02) Write a program to remove ith character from the given string."
   ]
  },
  {
   "cell_type": "code",
   "execution_count": 5,
   "metadata": {},
   "outputs": [
    {
     "name": "stdout",
     "output_type": "stream",
     "text": [
      "from postion 2 Removed Character is : a\n",
      "Drshan"
     ]
    }
   ],
   "source": [
    "str=input(\"Enter String :\")\n",
    "pos=int(input(\"Enter Position :\"))\n",
    "n=len(str)\n",
    "print(f\"from postion {pos} Removed Character is : {str[pos-1]}\")\n",
    "for i in range(n):\n",
    "    if i == pos-1:\n",
    "        continue\n",
    "    else:\n",
    "        print(str[i],end=\"\")"
   ]
  },
  {
   "cell_type": "markdown",
   "metadata": {},
   "source": [
    "### 03) Write a program to count ‘R’ in this string. “DARSHAN UNIVERSITY”."
   ]
  },
  {
   "cell_type": "code",
   "execution_count": 9,
   "metadata": {},
   "outputs": [
    {
     "name": "stdout",
     "output_type": "stream",
     "text": [
      "No of R in DARSHAN UNIVERSITY is 2\n"
     ]
    }
   ],
   "source": [
    "# Using Count Function \n",
    "str=\"DARSHAN UNIVERSITY\"\n",
    "print(f\"No of R in {str} is {str.count('R')}\")"
   ]
  },
  {
   "cell_type": "code",
   "execution_count": 11,
   "metadata": {},
   "outputs": [
    {
     "name": "stdout",
     "output_type": "stream",
     "text": [
      "No of R in DARSHAN UNIVERSITY is 2\n"
     ]
    }
   ],
   "source": [
    "# Without Count Function \n",
    "str=\"DARSHAN UNIVERSITY\"\n",
    "countr= 0\n",
    "for i in range(len(str)):\n",
    "    if str[i]== 'R':\n",
    "        countr = countr + 1\n",
    "print(f\"No of R in {str} is {countr}\")"
   ]
  },
  {
   "cell_type": "markdown",
   "metadata": {},
   "source": [
    "### 04) Write a program to count the number of vowels in a given string."
   ]
  },
  {
   "cell_type": "code",
   "execution_count": 7,
   "metadata": {},
   "outputs": [
    {
     "name": "stdout",
     "output_type": "stream",
     "text": [
      "String is :Darshan University\n",
      "No Of Vowel :6\n"
     ]
    }
   ],
   "source": [
    "str=input(\"Enter String :\")\n",
    "print(f\"String is :{str}\")\n",
    "vowel=0\n",
    "for i in str:\n",
    "    if(i=='A' or i=='E' or i=='I' or i=='O' or i=='U' or i=='a' or i=='e' or i=='i' or i=='o' or i=='u'):\n",
    "        vowel = vowel+1\n",
    "print(f\"No Of Vowel :{vowel}\")"
   ]
  },
  {
   "cell_type": "markdown",
   "metadata": {},
   "source": [
    "### 05) Write a program to print even-length words in a string."
   ]
  },
  {
   "cell_type": "code",
   "execution_count": 6,
   "metadata": {},
   "outputs": [
    {
     "name": "stdout",
     "output_type": "stream",
     "text": [
      "String is :Darshan University\n",
      "University\n"
     ]
    }
   ],
   "source": [
    "str=input(\"Enter String :\")\n",
    "print(f\"String is :{str}\")\n",
    "n = str.split()\n",
    "for i in n:\n",
    "    if(len(i)%2==0):\n",
    "        print(i)"
   ]
  },
  {
   "cell_type": "markdown",
   "metadata": {},
   "source": [
    "### 06) Write a program to check given string is palindrome or not."
   ]
  },
  {
   "cell_type": "code",
   "execution_count": 4,
   "metadata": {},
   "outputs": [
    {
     "name": "stdout",
     "output_type": "stream",
     "text": [
      "Number Is Palindrome.\n"
     ]
    }
   ],
   "source": [
    "no=int(input(\"Enter no :-\"))\n",
    "temp=no\n",
    "rev=0\n",
    "while temp>0:\n",
    "    dig=temp % 10\n",
    "    rev=(rev*10)+dig\n",
    "    temp//=10\n",
    "if(no==rev):\n",
    "    print(\"Number Is Palindrome.\")\n",
    "else:\n",
    "    print(\"Number Is Not Palindrome.\")"
   ]
  },
  {
   "cell_type": "markdown",
   "metadata": {},
   "source": [
    "### 07) Write a program to do string slicing from left rotate and right rotate the given string by d elements (where d <= n)."
   ]
  },
  {
   "cell_type": "code",
   "execution_count": 13,
   "metadata": {},
   "outputs": [
    {
     "name": "stdout",
     "output_type": "stream",
     "text": [
      "Left Rotate : rshanDa\n",
      "Right Rotate : anDarsh\n"
     ]
    }
   ],
   "source": [
    "str  = input(\"Enter String :\")\n",
    "d = int(input(\"Enter Position :\"))\n",
    "leftFirst = str[0 : d]\n",
    "leftSecond = str[d : ]\n",
    "print(f\"Left Rotate : {leftSecond + leftFirst}\")\n",
    "rightFirst = str[len(str)-d : ]\n",
    "rightSecond = str[ 0 : len(str)-d]\n",
    "print(f\"Right Rotate : {rightFirst + rightSecond}\")\n"
   ]
  },
  {
   "cell_type": "markdown",
   "metadata": {},
   "source": [
    "### 08) Write a program to reverse the word in a given string."
   ]
  },
  {
   "cell_type": "code",
   "execution_count": 13,
   "metadata": {},
   "outputs": [
    {
     "name": "stdout",
     "output_type": "stream",
     "text": [
      "Original String : Dhruv Vyas\n",
      "Reversed \n",
      "Vyas Dhruv "
     ]
    }
   ],
   "source": [
    "str=input(\"Enter String :\")\n",
    "print(f\"Original String : {str}\")\n",
    "rev = str.split()[::-1]\n",
    "print(\"Reversed \")\n",
    "for i in rev:\n",
    "    print(i,end=\" \")"
   ]
  }
 ],
 "metadata": {
  "kernelspec": {
   "display_name": "Python 3 (ipykernel)",
   "language": "python",
   "name": "python3"
  },
  "language_info": {
   "codemirror_mode": {
    "name": "ipython",
    "version": 3
   },
   "file_extension": ".py",
   "mimetype": "text/x-python",
   "name": "python",
   "nbconvert_exporter": "python",
   "pygments_lexer": "ipython3",
   "version": "3.12.4"
  },
  "vscode": {
   "interpreter": {
    "hash": "31f2aee4e71d21fbe5cf8b01ff0e069b9275f58929596ceb00d14d90e3e16cd6"
   }
  }
 },
 "nbformat": 4,
 "nbformat_minor": 4
}

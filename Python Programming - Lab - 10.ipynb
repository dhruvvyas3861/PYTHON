{
 "cells": [
  {
   "cell_type": "markdown",
   "metadata": {
    "id": "I36ZtkY_TPga"
   },
   "source": [
    "<a href='https://www.darshan.ac.in/'> <img src='https://www.darshan.ac.in/Content/media/DU_Logo.svg' width=\"250\" height=\"300\"/></a>\n",
    "<pre>\n",
    "<center><b><h1>Python Programming - 2304CS402</b></center>\n",
    "<center><b><h1>Lab - 10</b></center>    \n",
    "<pre>"
   ]
  },
  {
   "cell_type": "markdown",
   "metadata": {
    "id": "xBdreJBkTPgd"
   },
   "source": [
    "# Working with Files in python"
   ]
  },
  {
   "cell_type": "markdown",
   "metadata": {},
   "source": [
    "# f= open(\"abc.txt\",\"r\")\n",
    "### open(\" file_path \" , \" permission \") == open given file with given permisson\n",
    "### \"w\" = write mode (which overwrite file)\n",
    "### \"a\" = write mode (which append at end of  file)\n",
    "### \"r\" = read mode\n",
    "\n",
    "# f.readlines()\n",
    "### read() == return whole file in string\n",
    "### readline() == return first line of file\n",
    "### readlines() == return list of all lines \n",
    "\n",
    "# f.close() to close opened file"
   ]
  },
  {
   "cell_type": "markdown",
   "metadata": {
    "id": "od-WISIcTPge"
   },
   "source": [
    "### 01) WAP to read entire file named abc.txt"
   ]
  },
  {
   "cell_type": "code",
   "execution_count": 1,
   "metadata": {
    "id": "2THz-NwJTPge",
    "outputId": "9012361b-4976-4566-a06d-9f257d079352"
   },
   "outputs": [
    {
     "data": {
      "text/plain": [
       "\"Python is a popular programming language known for its simplicity.\\nIt is used in web development, data science, and artificial intelligence.\\nPython was created by Guido van Rossum and first released in 1991.\\nThe language emphasizes readability and clean syntax.\\nPython has a large standard library that supports many common tasks.\\nSpecial characters in Python include @, #, $, %, ^, &, and *.\\nPython allows for both procedural and object-oriented programming.\\nMany companies, like Google and Netflix, use Python for development.\\nPython's flexibility makes it suitable for both small scripts and large applications.\\nThe Python community is active, constantly improving the language.\\nPython files usually have a `.py` extension.\\nErrors in Python are raised as exceptions, like `TypeError` and `ValueError`.\\nPython 3 is the latest major version, and it's not backward compatible with Python 2.\\nFile handling is essential for reading and writing data in Python.\\nUsing `with open()` in Python is the recommended way to handle files.\\n\""
      ]
     },
     "execution_count": 1,
     "metadata": {},
     "output_type": "execute_result"
    }
   ],
   "source": [
    "f = open('firstfile.txt','r')\n",
    "f.read()"
   ]
  },
  {
   "cell_type": "markdown",
   "metadata": {
    "id": "TZgCdZrCTPgg"
   },
   "source": [
    "### 02) WAP to read first 5 lines from the file named abc.txt"
   ]
  },
  {
   "cell_type": "code",
   "execution_count": 2,
   "metadata": {
    "id": "PaMKPMlETPgg",
    "outputId": "df4daab5-8a4f-4efb-fc05-d869df22fcb7"
   },
   "outputs": [
    {
     "name": "stdout",
     "output_type": "stream",
     "text": [
      "Python is a popular programming language known for its simplicity.\n",
      "\n",
      "It is used in web development, data science, and artificial intelligence.\n",
      "\n",
      "Python was created by Guido van Rossum and first released in 1991.\n",
      "\n",
      "The language emphasizes readability and clean syntax.\n",
      "\n",
      "Python has a large standard library that supports many common tasks.\n",
      "\n"
     ]
    }
   ],
   "source": [
    "f = open('firstfile.txt','r')\n",
    "f1 = f.readlines()\n",
    "for i in range(5):\n",
    "    print(f1[i])"
   ]
  },
  {
   "cell_type": "markdown",
   "metadata": {},
   "source": [
    "### 03) Write a program to read only special characters from a file"
   ]
  },
  {
   "cell_type": "code",
   "execution_count": 3,
   "metadata": {},
   "outputs": [
    {
     "name": "stdout",
     "output_type": "stream",
     "text": [
      ".,,....@,#,$,%,^,&,*.-.,,.'.,.`.`.,````.,'..`()`.\n"
     ]
    }
   ],
   "source": [
    "with open('firstfile.txt', 'r') as file:\n",
    "    content = file.read()\n",
    "    special_chars = ''.join([char for char in content if not char.isalnum() and not char.isspace()])\n",
    "    print(special_chars)\n"
   ]
  },
  {
   "cell_type": "markdown",
   "metadata": {},
   "source": [
    "### 04 ) Write a program to read file line by line and store lines as a list."
   ]
  },
  {
   "cell_type": "code",
   "execution_count": 4,
   "metadata": {},
   "outputs": [
    {
     "name": "stdout",
     "output_type": "stream",
     "text": [
      "['Python is a popular programming language known for its simplicity.\\n', 'It is used in web development, data science, and artificial intelligence.\\n', 'Python was created by Guido van Rossum and first released in 1991.\\n', 'The language emphasizes readability and clean syntax.\\n', 'Python has a large standard library that supports many common tasks.\\n', 'Special characters in Python include @, #, $, %, ^, &, and *.\\n', 'Python allows for both procedural and object-oriented programming.\\n', 'Many companies, like Google and Netflix, use Python for development.\\n', \"Python's flexibility makes it suitable for both small scripts and large applications.\\n\", 'The Python community is active, constantly improving the language.\\n', 'Python files usually have a `.py` extension.\\n', 'Errors in Python are raised as exceptions, like `TypeError` and `ValueError`.\\n', \"Python 3 is the latest major version, and it's not backward compatible with Python 2.\\n\", 'File handling is essential for reading and writing data in Python.\\n', 'Using `with open()` in Python is the recommended way to handle files.\\n']\n"
     ]
    }
   ],
   "source": [
    "with open('firstfile.txt', 'r') as file:\n",
    "    lines = file.readlines()\n",
    "    print(lines)\n"
   ]
  },
  {
   "cell_type": "markdown",
   "metadata": {},
   "source": [
    "### 05) Write a program to write N lines in a new file. "
   ]
  },
  {
   "cell_type": "code",
   "execution_count": 5,
   "metadata": {},
   "outputs": [],
   "source": [
    "N = int(input(\"Enter the number of lines: \"))\n",
    "with open('newfile.txt', 'w') as file:\n",
    "    for i in range(N):\n",
    "        line = input(f\"Enter line {i+1}: \")\n",
    "        file.write(line + '\\n')"
   ]
  },
  {
   "cell_type": "markdown",
   "metadata": {},
   "source": [
    "### 06) Write a program to write 5 student records (Rollno, StudentName, and Department) in the studentDetails.txt file."
   ]
  },
  {
   "cell_type": "code",
   "execution_count": 6,
   "metadata": {},
   "outputs": [],
   "source": [
    "with open('studentDetails.txt', 'w') as file:\n",
    "    for i in range(5):\n",
    "        roll_no = input(\"Enter Roll Number: \")\n",
    "        student_name = input(\"Enter Student Name: \")\n",
    "        department = input(\"Enter Department: \")\n",
    "        file.write(f\"{roll_no}, {student_name}, {department}\\n\")"
   ]
  },
  {
   "cell_type": "markdown",
   "metadata": {
    "id": "q-YevoPZTPgg"
   },
   "source": [
    "### 07) WAP to find the longest word in a file named abc.txt"
   ]
  },
  {
   "cell_type": "code",
   "execution_count": 7,
   "metadata": {
    "id": "-nFvgaoRTPgg",
    "outputId": "5e80bbfe-c20a-4ccd-b5f3-7f76e9b5461f"
   },
   "outputs": [
    {
     "name": "stdout",
     "output_type": "stream",
     "text": [
      "Longest word: object-oriented\n"
     ]
    }
   ],
   "source": [
    "with open('firstfile.txt', 'r') as file:\n",
    "    words = file.read().split()\n",
    "    longest_word = max(words, key=len)\n",
    "    print(\"Longest word:\", longest_word)\n"
   ]
  },
  {
   "cell_type": "markdown",
   "metadata": {
    "id": "DvMAEtYiTPgh"
   },
   "source": [
    "### 08) Write a program to find the file size named firstfile.txt. "
   ]
  },
  {
   "cell_type": "code",
   "execution_count": 8,
   "metadata": {
    "id": "qzFSYd-5TPgh",
    "outputId": "f474b5d3-fb48-4fa8-b22d-93c562fe3daf"
   },
   "outputs": [
    {
     "name": "stdout",
     "output_type": "stream",
     "text": [
      "File size: 1043 bytes\n"
     ]
    }
   ],
   "source": [
    "import os\n",
    "\n",
    "file_size = os.path.getsize('firstfile.txt')\n",
    "print(\"File size:\", file_size, \"bytes\")\n"
   ]
  },
  {
   "cell_type": "markdown",
   "metadata": {
    "id": "kJLGBHk1TPgh"
   },
   "source": [
    "### 09) Write a program to append the content of the studentDetails.txt file by reading the student records from the user"
   ]
  },
  {
   "cell_type": "code",
   "execution_count": 9,
   "metadata": {},
   "outputs": [],
   "source": [
    "with open('studentDetails.txt', 'a') as file:\n",
    "    for i in range(2):  # Taking 5 more records as an example\n",
    "        roll_no = input(\"Enter Roll Number: \")\n",
    "        student_name = input(\"Enter Student Name: \")\n",
    "        department = input(\"Enter Department: \")\n",
    "        file.write(f\"{roll_no}, {student_name}, {department}\\n\")"
   ]
  },
  {
   "cell_type": "markdown",
   "metadata": {
    "id": "kHJlC4Y6TPgi"
   },
   "source": [
    "### 10) Write a program to enter a file name and check it exists or not. Ask for user confirmation and delete the file."
   ]
  },
  {
   "cell_type": "code",
   "execution_count": 11,
   "metadata": {
    "id": "Exuwt3LUTPgi"
   },
   "outputs": [
    {
     "name": "stdout",
     "output_type": "stream",
     "text": [
      "newfile.txt has been deleted.\n"
     ]
    }
   ],
   "source": [
    "import os\n",
    "\n",
    "file_name = input(\"Enter the file name: \")\n",
    "if os.path.exists(file_name):\n",
    "    confirm = input(f\"Are you sure you want to delete {file_name}? (yes/no): \")\n",
    "    if confirm.lower() == 'yes':\n",
    "        os.remove(file_name)\n",
    "        print(f\"{file_name} has been deleted.\")\n",
    "    else:\n",
    "        print(\"File not deleted.\")\n",
    "else:\n",
    "    print(\"File does not exist.\")"
   ]
  }
 ],
 "metadata": {
  "colab": {
   "provenance": []
  },
  "kernelspec": {
   "display_name": "Python 3 (ipykernel)",
   "language": "python",
   "name": "python3"
  },
  "language_info": {
   "codemirror_mode": {
    "name": "ipython",
    "version": 3
   },
   "file_extension": ".py",
   "mimetype": "text/x-python",
   "name": "python",
   "nbconvert_exporter": "python",
   "pygments_lexer": "ipython3",
   "version": "3.12.4"
  },
  "vscode": {
   "interpreter": {
    "hash": "5238573367df39f7286bb46f9ff5f08f63a01a80960060ce41e3c79b190280fa"
   }
  }
 },
 "nbformat": 4,
 "nbformat_minor": 4
}

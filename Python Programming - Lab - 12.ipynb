{
 "cells": [
  {
   "cell_type": "markdown",
   "metadata": {},
   "source": [
    "<a href='https://www.darshan.ac.in/'> <img src='https://www.darshan.ac.in/Content/media/DU_Logo.svg' width=\"250\" height=\"300\"/></a>\n",
    "<pre>\n",
    "<center><b><h1>Python Programming - 2304CS402</b></center>\n",
    "<center><b><h1>Lab - 12</b></center>    \n",
    "<pre>"
   ]
  },
  {
   "cell_type": "markdown",
   "metadata": {},
   "source": [
    "# Working with Class,Object & Polymorphism."
   ]
  },
  {
   "cell_type": "markdown",
   "metadata": {},
   "source": [
    "### 01) Write a program to create a class named Student, and initialize attributes like Enrollment_No, Student_Name, Gender, and Department while creating an object."
   ]
  },
  {
   "cell_type": "code",
   "execution_count": 1,
   "metadata": {},
   "outputs": [
    {
     "name": "stdout",
     "output_type": "stream",
     "text": [
      "Enrollment No: 12345\n",
      "Student Name: Dhruv\n",
      "Gender: Male\n",
      "Department: Computer Science\n"
     ]
    }
   ],
   "source": [
    "class Student:\n",
    "    def __init__(self, enrollment_no, student_name, gender, department):\n",
    "        self.enrollment_no = enrollment_no\n",
    "        self.student_name = student_name\n",
    "        self.gender = gender\n",
    "        self.department = department\n",
    "\n",
    "# Creating a Student object\n",
    "student1 = Student(\"12345\", \"Dhruv\", \"Male\", \"Computer Science\")\n",
    "print(\"Enrollment No:\", student1.enrollment_no)\n",
    "print(\"Student Name:\", student1.student_name)\n",
    "print(\"Gender:\", student1.gender)\n",
    "print(\"Department:\", student1.department)\n"
   ]
  },
  {
   "cell_type": "markdown",
   "metadata": {},
   "source": [
    "### 02) Create a class named Shape. Create three subclasses of the Shape class named Circle, Triangle, and Square which contain CalculateArea, and DisplayArea methods. Write a program to display the area of all three classes."
   ]
  },
  {
   "cell_type": "code",
   "execution_count": 2,
   "metadata": {},
   "outputs": [
    {
     "name": "stdout",
     "output_type": "stream",
     "text": [
      "Area: 78.53981633974483\n",
      "Area: 40.0\n",
      "Area: 36\n"
     ]
    }
   ],
   "source": [
    "import math\n",
    "\n",
    "class Shape:\n",
    "    def calculate_area(self):\n",
    "        pass\n",
    "\n",
    "    def display_area(self):\n",
    "        print(\"Area:\", self.calculate_area())\n",
    "\n",
    "class Circle(Shape):\n",
    "    def __init__(self, radius):\n",
    "        self.radius = radius\n",
    "\n",
    "    def calculate_area(self):\n",
    "        return math.pi * self.radius ** 2\n",
    "\n",
    "class Triangle(Shape):\n",
    "    def __init__(self, base, height):\n",
    "        self.base = base\n",
    "        self.height = height\n",
    "\n",
    "    def calculate_area(self):\n",
    "        return 0.5 * self.base * self.height\n",
    "\n",
    "class Square(Shape):\n",
    "    def __init__(self, side):\n",
    "        self.side = side\n",
    "\n",
    "    def calculate_area(self):\n",
    "        return self.side ** 2\n",
    "\n",
    "# Testing the classes\n",
    "circle = Circle(5)\n",
    "triangle = Triangle(10, 8)\n",
    "square = Square(6)\n",
    "\n",
    "circle.display_area()\n",
    "triangle.display_area()\n",
    "square.display_area()\n"
   ]
  },
  {
   "cell_type": "markdown",
   "metadata": {},
   "source": [
    "### 03) Create a class named Bank_Account with Account_No, User_Name, Email, Account_Type and Account_Balance data members. Also, create a method GetAccountDetails() and DisplayAccountDetails(). Create the main method to demonstrate the Bank_Account class."
   ]
  },
  {
   "cell_type": "code",
   "execution_count": 3,
   "metadata": {},
   "outputs": [
    {
     "name": "stdout",
     "output_type": "stream",
     "text": [
      "Account No: 987654321\n",
      "User Name: Dhruv Vyas\n",
      "Email: Dhruvvyas@example.com\n",
      "Account Type: Savings\n",
      "Account Balance: 50000\n"
     ]
    }
   ],
   "source": [
    "class Bank_Account:\n",
    "    def __init__(self, account_no, user_name, email, account_type, account_balance):\n",
    "        self.account_no = account_no\n",
    "        self.user_name = user_name\n",
    "        self.email = email\n",
    "        self.account_type = account_type\n",
    "        self.account_balance = account_balance\n",
    "\n",
    "    def get_account_details(self):\n",
    "        return {\n",
    "            \"Account No\": self.account_no,\n",
    "            \"User Name\": self.user_name,\n",
    "            \"Email\": self.email,\n",
    "            \"Account Type\": self.account_type,\n",
    "            \"Account Balance\": self.account_balance\n",
    "        }\n",
    "\n",
    "    def display_account_details(self):\n",
    "        details = self.get_account_details()\n",
    "        for key, value in details.items():\n",
    "            print(f\"{key}: {value}\")\n",
    "\n",
    "# Creating a Bank_Account object and displaying details\n",
    "account = Bank_Account(\"987654321\", \"Dhruv Vyas\", \"Dhruvvyas@example.com\", \"Savings\", 50000)\n",
    "account.display_account_details()\n"
   ]
  }
 ],
 "metadata": {
  "kernelspec": {
   "display_name": "Python 3 (ipykernel)",
   "language": "python",
   "name": "python3"
  },
  "language_info": {
   "codemirror_mode": {
    "name": "ipython",
    "version": 3
   },
   "file_extension": ".py",
   "mimetype": "text/x-python",
   "name": "python",
   "nbconvert_exporter": "python",
   "pygments_lexer": "ipython3",
   "version": "3.12.4"
  }
 },
 "nbformat": 4,
 "nbformat_minor": 4
}

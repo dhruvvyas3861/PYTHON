{
 "cells": [
  {
   "cell_type": "markdown",
   "metadata": {},
   "source": [
    "\n",
    "<a href='https://www.darshan.ac.in/'> <img src='https://www.darshan.ac.in/Content/media/DU_Logo.svg' width=\"250\" height=\"300\"/></a>\n",
    "<pre>\n",
    "<center><b><h1>Python Programming - 2304CS402</b></center>\n",
    "<center><b><h1>Lab - 2</b></center>    \n",
    "<pre>"
   ]
  },
  {
   "cell_type": "markdown",
   "metadata": {},
   "source": [
    "# Working with Conditional Statement & Operator"
   ]
  },
  {
   "cell_type": "markdown",
   "metadata": {},
   "source": [
    "### 01) WAP to check whether the given number is positive or negative."
   ]
  },
  {
   "cell_type": "code",
   "execution_count": 3,
   "metadata": {},
   "outputs": [
    {
     "name": "stdout",
     "output_type": "stream",
     "text": [
      "Enter Number :88\n",
      "Number Is Positive..\n"
     ]
    }
   ],
   "source": [
    "no=int(input(\"Enter Number :\"))\n",
    "if(no>0):\n",
    "    print(\"Number Is Positive..\")\n",
    "else:\n",
    "    print(\"Number is Negative..\")"
   ]
  },
  {
   "cell_type": "markdown",
   "metadata": {},
   "source": [
    "### 02) WAP to check whether the given number is odd or even"
   ]
  },
  {
   "cell_type": "code",
   "execution_count": 5,
   "metadata": {},
   "outputs": [
    {
     "name": "stdout",
     "output_type": "stream",
     "text": [
      "Enter Number :15\n",
      "Number Is Odd..\n"
     ]
    }
   ],
   "source": [
    "a=int(input(\"Enter Number :\"))\n",
    "if(a%2==0):\n",
    "    print(\"Number Is Even..\")\n",
    "else:\n",
    "    print(\"Number Is Odd..\")"
   ]
  },
  {
   "cell_type": "markdown",
   "metadata": {},
   "source": [
    "### 03) Write a program to find the largest number from the given three numbers"
   ]
  },
  {
   "cell_type": "code",
   "execution_count": 7,
   "metadata": {},
   "outputs": [
    {
     "name": "stdout",
     "output_type": "stream",
     "text": [
      "Enter 1st Number :50\n",
      "Enter 2nd Number :80\n",
      "Enter 3rd Number :45\n",
      "80  Is Maximum..\n"
     ]
    }
   ],
   "source": [
    "a=int(input(\"Enter 1st Number :\"))\n",
    "b=int(input(\"Enter 2nd Number :\"))\n",
    "c=int(input(\"Enter 3rd Number :\"))\n",
    "if(a>b and a>c):\n",
    "    print(a,\" Is Maximum..\")\n",
    "elif(b>c):\n",
    "    print(b,\" Is Maximum..\")\n",
    "else:\n",
    "    print(c,\" Is Maximum..\")"
   ]
  },
  {
   "cell_type": "markdown",
   "metadata": {},
   "source": [
    "### 4) Write a program to display the day's name according to the number given by the user."
   ]
  },
  {
   "cell_type": "code",
   "execution_count": 1,
   "metadata": {},
   "outputs": [
    {
     "name": "stdout",
     "output_type": "stream",
     "text": [
      "Friday..\n"
     ]
    }
   ],
   "source": [
    "day=int(input(\"Enter Day number :\"))\n",
    "if(day==1):\n",
    "    print(\"Monday..\")\n",
    "elif(day==2):\n",
    "    print(\"Tuesday..\")\n",
    "elif(day==3):\n",
    "    print(\"Wednesday..\")\n",
    "elif(day==4):\n",
    "    print(\"Thursday..\")\n",
    "elif(day==5):\n",
    "    print(\"Friday..\")\n",
    "elif(day==6):\n",
    "    print(\"Saturday..\")\n",
    "elif(day==7):\n",
    "    print(\"Sunday..\")\n",
    "else:\n",
    "    print(\"Invaild Number Try Again..\")\n"
   ]
  },
  {
   "cell_type": "markdown",
   "metadata": {},
   "source": [
    "### 05) Write a program to perform addition, subtraction, multiplication, and division of two numbers based on user input."
   ]
  },
  {
   "cell_type": "code",
   "execution_count": 31,
   "metadata": {},
   "outputs": [
    {
     "name": "stdout",
     "output_type": "stream",
     "text": [
      "Enter 1st Number :50\n",
      "Enter 2nd Number :0\n",
      "Enter 1 for Addition\n",
      "Enter 2 for Subtraction\n",
      "Enter 3 for Multiplication\n",
      "Enter 4 for Division\n",
      "Enter ur Choice :4\n",
      "Division not possible\n"
     ]
    }
   ],
   "source": [
    "a=int(input(\"Enter 1st Number :\"))\n",
    "b=int(input(\"Enter 2nd Number :\"))\n",
    "print(\"Enter 1 for Addition\",\"Enter 2 for Subtraction\",\"Enter 3 for Multiplication\",\"Enter 4 for Division\",sep='\\n',end=\"\\n\")\n",
    "ch=int(input(\"Enter ur Choice :\"))\n",
    "if(ch==1):\n",
    "    print(\"Addition is :\",(a+b))\n",
    "elif(ch==2):\n",
    "    print(\"Subtraction is :\",(a-b))\n",
    "elif(ch==3):\n",
    "    print(\"Multiplication is :\",(a*b))\n",
    "elif(ch==4):\n",
    "    if(b!=0):\n",
    "        print(\"Division is :\",(a/b))\n",
    "    else:\n",
    "        print(\"Division not possible\")\n",
    "else:\n",
    "    print(\"Invaild Choice...\")"
   ]
  },
  {
   "cell_type": "markdown",
   "metadata": {},
   "source": [
    "### 6) Write a program to find the largest number from the given two numbers using the ternary operator."
   ]
  },
  {
   "cell_type": "code",
   "execution_count": 2,
   "metadata": {},
   "outputs": [
    {
     "name": "stdout",
     "output_type": "stream",
     "text": [
      "70  is Maximum\n"
     ]
    }
   ],
   "source": [
    "a=int(input(\"Enter 1st Number :\"))\n",
    "b=int(input(\"Enter 2nd Number :\"))\n",
    "print(a,\" is Maximum..\") if(a>b) else print(b,\" is Maximum\")"
   ]
  },
  {
   "cell_type": "markdown",
   "metadata": {},
   "source": [
    "### 7) Write a program to find the largest number from the given three numbers using the ternary operator"
   ]
  },
  {
   "cell_type": "code",
   "execution_count": 3,
   "metadata": {},
   "outputs": [
    {
     "name": "stdout",
     "output_type": "stream",
     "text": [
      "Maximum number is : 60\n"
     ]
    }
   ],
   "source": [
    "a=int(input(\"Enter 1st Number :\"))\n",
    "b=int(input(\"Enter 2nd Number :\"))\n",
    "c=int(input(\"Enter 3rd Number :\"))\n",
    "max = a if(a>b and a>c) else (b if b>c else c)\n",
    "print(\"Maximum number is :\",max)"
   ]
  },
  {
   "cell_type": "markdown",
   "metadata": {},
   "source": [
    "### 8) Write a program to check whether the given year is a leap year or not."
   ]
  },
  {
   "cell_type": "code",
   "execution_count": 4,
   "metadata": {},
   "outputs": [
    {
     "name": "stdout",
     "output_type": "stream",
     "text": [
      "3000  is not a leap year\n"
     ]
    }
   ],
   "source": [
    "year=int(input(\"Enter Year :\"))\n",
    "if (year % 400 == 0) and (year % 100 == 0):\n",
    "    print(year,\" is a leap year\")\n",
    "\n",
    "elif (year % 4 ==0) and (year % 100 != 0):\n",
    "    print(year,\" is a leap year\")\n",
    "    \n",
    "else:\n",
    "    print(year,\" is not a leap year\")  "
   ]
  },
  {
   "cell_type": "markdown",
   "metadata": {},
   "source": [
    "### 09) Write a program to calculate electricity bill based on the following criteria. Take the units from the user\n",
    "a. First 1 to 50 units – Rs. 2.60/unit</br>\n",
    "b. Next 50 to 100 units – Rs. 3.25/unit</br>\n",
    "c. Next 100 to 200 units – Rs. 5.5/unit</br>\n",
    "d. above 200 units – Rs. 8.0/unit"
   ]
  },
  {
   "cell_type": "code",
   "execution_count": 5,
   "metadata": {},
   "outputs": [
    {
     "name": "stdout",
     "output_type": "stream",
     "text": [
      "Bill....  159.25\n"
     ]
    }
   ],
   "source": [
    "unit=int(input(\"Enter Unit :\"))\n",
    "amount = 0\n",
    "nunit = 0\n",
    "if(unit>0):\n",
    "    amount=unit*2.60\n",
    "    nunit=unit-50\n",
    "if(nunit>0 and nunit<=50):\n",
    "    amount+=nunit*3.25\n",
    "    nunit=nunit-100\n",
    "if(nunit>0 and nunit<=100):\n",
    "    amount=nunit*5.5\n",
    "    nunit=nunit-200\n",
    "if(nunit>200):\n",
    "    amount=nunit*8.0\n",
    "print(\"Bill.... \",amount)"
   ]
  }
 ],
 "metadata": {
  "kernelspec": {
   "display_name": "Python 3 (ipykernel)",
   "language": "python",
   "name": "python3"
  },
  "language_info": {
   "codemirror_mode": {
    "name": "ipython",
    "version": 3
   },
   "file_extension": ".py",
   "mimetype": "text/x-python",
   "name": "python",
   "nbconvert_exporter": "python",
   "pygments_lexer": "ipython3",
   "version": "3.12.4"
  }
 },
 "nbformat": 4,
 "nbformat_minor": 4
}

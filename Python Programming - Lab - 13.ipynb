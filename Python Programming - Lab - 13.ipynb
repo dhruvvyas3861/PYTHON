{
 "cells": [
  {
   "cell_type": "markdown",
   "metadata": {},
   "source": [
    "<a href='https://www.darshan.ac.in/'> <img src='https://www.darshan.ac.in/Content/media/DU_Logo.svg' width=\"250\" height=\"300\"/></a>\n",
    "<pre>\n",
    "<center><b><h1>Python Programming - 2304CS402</b></center>\n",
    "<center><b><h1>Lab - 13</b></center>    \n",
    "<pre>"
   ]
  },
  {
   "cell_type": "markdown",
   "metadata": {},
   "source": [
    "# Exception Handling"
   ]
  },
  {
   "cell_type": "markdown",
   "metadata": {},
   "source": [
    "### 01) Write a program to implement a calculator that performs basic operations (addition, subtraction, multiplication, division). Handle exceptions like division by zero, invalid operator input, etc. "
   ]
  },
  {
   "cell_type": "code",
   "execution_count": 1,
   "metadata": {},
   "outputs": [
    {
     "name": "stdout",
     "output_type": "stream",
     "text": [
      "Result: 10.0\n"
     ]
    }
   ],
   "source": [
    "try:\n",
    "    num1 = float(input(\"Enter first number: \"))\n",
    "    num2 = float(input(\"Enter second number: \"))\n",
    "    operator = input(\"Enter operation (+, -, *, /): \")\n",
    "\n",
    "    if operator == '+':\n",
    "        result = num1 + num2\n",
    "    elif operator == '-':\n",
    "        result = num1 - num2\n",
    "    elif operator == '*':\n",
    "        result = num1 * num2\n",
    "    elif operator == '/':\n",
    "        if num2 == 0:\n",
    "            raise ZeroDivisionError(\"Cannot divide by zero.\")\n",
    "        result = num1 / num2\n",
    "    else:\n",
    "        raise ValueError(\"Invalid operator. Choose from +, -, *, /.\")\n",
    "\n",
    "    print(\"Result:\", result)\n",
    "\n",
    "except ValueError as ve:\n",
    "    print(\"Value Error:\", ve)\n",
    "except ZeroDivisionError as zde:\n",
    "    print(\"Zero Division Error:\", zde)\n",
    "except Exception as e:\n",
    "    print(\"An error occurred:\", e)\n"
   ]
  },
  {
   "cell_type": "markdown",
   "metadata": {},
   "source": [
    "### 02)  Write a program to check whether a person is eligible to donate blood. Takes age and weight from the user. Blood donation criteria are age should be greater than 18 years and weight should be greater than 50kg. Raise the ValueError exception for invalid input and create a custom exception if the above-mentioned criteria don’t match."
   ]
  },
  {
   "cell_type": "code",
   "execution_count": 2,
   "metadata": {},
   "outputs": [
    {
     "name": "stdout",
     "output_type": "stream",
     "text": [
      "You are eligible to donate blood.\n"
     ]
    }
   ],
   "source": [
    "class IneligibleForDonation(Exception):\n",
    "    pass\n",
    "\n",
    "try:\n",
    "    age = int(input(\"Enter age: \"))\n",
    "    weight = float(input(\"Enter weight in kg: \"))\n",
    "\n",
    "    if age < 18:\n",
    "        raise ValueError(\"Age must be greater than 18.\")\n",
    "    if weight <= 50:\n",
    "        raise ValueError(\"Weight must be greater than 50kg.\")\n",
    "\n",
    "    if age <= 18 or weight <= 50:\n",
    "        raise IneligibleForDonation(\"Not eligible for blood donation.\")\n",
    "\n",
    "    print(\"You are eligible to donate blood.\")\n",
    "\n",
    "except ValueError as ve:\n",
    "    print(\"Value Error:\", ve)\n",
    "except IneligibleForDonation as ie:\n",
    "    print(\"Custom Error:\", ie)\n",
    "except Exception as e:\n",
    "    print(\"An error occurred:\", e)\n"
   ]
  },
  {
   "cell_type": "markdown",
   "metadata": {},
   "source": [
    "### 03) Write a program that divides two numbers and raises a custom exception if the user tries to divide by zero"
   ]
  },
  {
   "cell_type": "code",
   "execution_count": 4,
   "metadata": {},
   "outputs": [
    {
     "name": "stdout",
     "output_type": "stream",
     "text": [
      "Custom Error: Cannot divide by zero.\n"
     ]
    }
   ],
   "source": [
    "class DivisionByZeroError(Exception):\n",
    "    pass\n",
    "\n",
    "try:\n",
    "    num1 = float(input(\"Enter the dividend: \"))\n",
    "    num2 = float(input(\"Enter the divisor: \"))\n",
    "\n",
    "    if num2 == 0:\n",
    "        raise DivisionByZeroError(\"Custom Error: Cannot divide by zero.\")\n",
    "\n",
    "    result = num1 / num2\n",
    "    print(\"Result:\", result)\n",
    "\n",
    "except DivisionByZeroError as dbze:\n",
    "    print(dbze)\n",
    "except Exception as e:\n",
    "    print(\"An error occurred:\", e)\n"
   ]
  }
 ],
 "metadata": {
  "kernelspec": {
   "display_name": "Python 3 (ipykernel)",
   "language": "python",
   "name": "python3"
  },
  "language_info": {
   "codemirror_mode": {
    "name": "ipython",
    "version": 3
   },
   "file_extension": ".py",
   "mimetype": "text/x-python",
   "name": "python",
   "nbconvert_exporter": "python",
   "pygments_lexer": "ipython3",
   "version": "3.12.4"
  }
 },
 "nbformat": 4,
 "nbformat_minor": 4
}

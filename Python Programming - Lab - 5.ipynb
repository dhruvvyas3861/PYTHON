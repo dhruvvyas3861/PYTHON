{
 "cells": [
  {
   "cell_type": "markdown",
   "metadata": {},
   "source": [
    "\n",
    "<a href='https://www.darshan.ac.in/'> <img src='https://www.darshan.ac.in/Content/media/DU_Logo.svg' width=\"250\" height=\"300\"/></a>\n",
    "<pre>\n",
    "<center><b><h1>Python Programming - 2304CS402</b></center>\n",
    "<center><b><h1>Lab - 5</b></center>    \n",
    "<pre>"
   ]
  },
  {
   "cell_type": "markdown",
   "metadata": {},
   "source": [
    "# Understand Working of list"
   ]
  },
  {
   "cell_type": "markdown",
   "metadata": {},
   "source": [
    "### 01) Write a program to find the sum of all the elements in the list."
   ]
  },
  {
   "cell_type": "code",
   "execution_count": 1,
   "metadata": {},
   "outputs": [
    {
     "name": "stdout",
     "output_type": "stream",
     "text": [
      "[10, 20, 30, 40, 50]\n",
      "Sum is 150\n"
     ]
    }
   ],
   "source": [
    "n=int(input(\"Enter Size Of List :\"))\n",
    "l1=[]\n",
    "for  i in range(n):\n",
    "    l1.append(int(input(\"Enter Elements of list: \")))\n",
    "sum = 0\n",
    "for a in l1:\n",
    "    sum+=a\n",
    "print(l1)\n",
    "print(f\"Sum is {sum}\")"
   ]
  },
  {
   "cell_type": "markdown",
   "metadata": {},
   "source": [
    "### 02) Write a program to find the smallest and largest element from the list entered by the user"
   ]
  },
  {
   "cell_type": "code",
   "execution_count": 2,
   "metadata": {},
   "outputs": [
    {
     "name": "stdout",
     "output_type": "stream",
     "text": [
      "[10, 5, 20, 33, 44]\n",
      "Minimum No is :5\n",
      "Maximum No is :44\n"
     ]
    }
   ],
   "source": [
    "n=int(input(\"Enter Size Of List :\"))\n",
    "l1=[]\n",
    "for  i in range(n):\n",
    "    l1.append(int(input(\"Enter Elements of list: \")))\n",
    "max=l1[0]\n",
    "min=l1[0]\n",
    "for i in l1:\n",
    "    if i>max:\n",
    "        max=i\n",
    "    elif i<min:\n",
    "        min=i\n",
    "print(l1)\n",
    "print(f\"Minimum No is :{min}\")\n",
    "print(f\"Maximum No is :{max}\")"
   ]
  },
  {
   "cell_type": "markdown",
   "metadata": {},
   "source": [
    "### 03) Write a program to take a list from the user split the list into two and append the first part to the end of the list."
   ]
  },
  {
   "cell_type": "code",
   "execution_count": 3,
   "metadata": {},
   "outputs": [
    {
     "name": "stdout",
     "output_type": "stream",
     "text": [
      "[10, 20, 30, 40, 50]\n",
      "Modified List is:[30, 40, 50, 10, 20]\n"
     ]
    }
   ],
   "source": [
    "n=int(input(\"Enter Size Of List :\"))\n",
    "l1=[]\n",
    "for  i in range(n):\n",
    "    l1.append(int(input(\"Enter Elements of list: \")))\n",
    "l2=l1[n//2:]+l1[:n//2]\n",
    "print(l1)\n",
    "print (f\"Modified List is:{l2}\")"
   ]
  },
  {
   "cell_type": "markdown",
   "metadata": {},
   "source": [
    "### 04) Write a program to interchange the first and last elements of a list entered by a user."
   ]
  },
  {
   "cell_type": "code",
   "execution_count": 4,
   "metadata": {},
   "outputs": [
    {
     "name": "stdout",
     "output_type": "stream",
     "text": [
      "original list [10, 20, 30, 40, 50]\n",
      "Modified List is :[50, 20, 30, 40, 10]\n"
     ]
    }
   ],
   "source": [
    "n=int(input(\"Enter Size Of List :\"))\n",
    "l1=[]\n",
    "for  i in range(n):\n",
    "    l1.append(int(input(\"Enter Elements of list: \")))\n",
    "print(f\"original list {l1}\")\n",
    "temp=l1[0]\n",
    "l1[0]=l1[n-1]\n",
    "l1[n-1]=temp\n",
    "print(f\"Modified List is :{l1}\")"
   ]
  },
  {
   "cell_type": "markdown",
   "metadata": {},
   "source": [
    "### 05) Write a program to reverse the list entered by the user"
   ]
  },
  {
   "cell_type": "code",
   "execution_count": 5,
   "metadata": {},
   "outputs": [
    {
     "name": "stdout",
     "output_type": "stream",
     "text": [
      "[1, 2, 3, 4, 5]\n",
      "[5, 4, 3, 2, 1]\n"
     ]
    }
   ],
   "source": [
    "n=int(input(\"Enter Size Of List :\"))\n",
    "l1=[]\n",
    "for  i in range(n):\n",
    "    l1.append(int(input(\"Enter Elements of list: \")))\n",
    "print(l1)\n",
    "l2=l1[::-1]\n",
    "print(l2)"
   ]
  },
  {
   "cell_type": "markdown",
   "metadata": {},
   "source": [
    "### 06) Write a program to print all even numbers of the list entered by the user."
   ]
  },
  {
   "cell_type": "code",
   "execution_count": 6,
   "metadata": {},
   "outputs": [
    {
     "name": "stdout",
     "output_type": "stream",
     "text": [
      "[10, 25, 30, 35, 44]\n",
      "10\n",
      "30\n",
      "44\n"
     ]
    }
   ],
   "source": [
    "n=int(input(\"Enter Size Of List :\"))\n",
    "l1=[]\n",
    "for  i in range(n):\n",
    "    l1.append(int(input(\"Enter Elements of list: \")))\n",
    "print(l1)\n",
    "for i in l1:\n",
    "    if i%2==0:\n",
    "        print(i)"
   ]
  },
  {
   "cell_type": "markdown",
   "metadata": {},
   "source": [
    "### 07) Write a program to search for an element in a list."
   ]
  },
  {
   "cell_type": "code",
   "execution_count": 7,
   "metadata": {},
   "outputs": [
    {
     "name": "stdout",
     "output_type": "stream",
     "text": [
      "[10, 20, 30, 40, 50]\n",
      "20 is Found ..\n"
     ]
    }
   ],
   "source": [
    "n=int(input(\"Enter Size Of List :\"))\n",
    "search= False\n",
    "l1=[]\n",
    "for  i in range(n):\n",
    "    l1.append(int(input(\"Enter Elements of list: \")))\n",
    "number = int(input(\"Enter A Number to be Search :\"))\n",
    "print(l1)\n",
    "for i in l1:\n",
    "    if i == number:\n",
    "        print(f\"{number} is Found ..\")\n",
    "        search = True\n",
    "if search==False:\n",
    "    print(\"Element Not Found...\")\n"
   ]
  },
  {
   "cell_type": "markdown",
   "metadata": {},
   "source": [
    "### 08) Write a program to sort a list in ascending order"
   ]
  },
  {
   "cell_type": "code",
   "execution_count": 9,
   "metadata": {},
   "outputs": [
    {
     "name": "stdout",
     "output_type": "stream",
     "text": [
      "[55, 33, 88, 44, 99]\n",
      "sorted list is :[33, 44, 55, 88, 99]\n"
     ]
    }
   ],
   "source": [
    "n=int(input(\"Enter Size Of List :\"))\n",
    "l1=[]\n",
    "for  i in range(n):\n",
    "    l1.append(int(input(\"Enter Elements of list: \")))\n",
    "print(l1)\n",
    "for i in range(len(l1)):\n",
    "    for j in range(i+1,len(l1)):\n",
    "        if l1[i]> l1[j]:\n",
    "            l1[i],l1[j]=l1[j],l1[i]\n",
    "print(f\"sorted list is :{l1}\")"
   ]
  },
  {
   "cell_type": "markdown",
   "metadata": {},
   "source": [
    "### 09) Write a program to convert a list of characters entered by the user into a string."
   ]
  },
  {
   "cell_type": "code",
   "execution_count": 11,
   "metadata": {},
   "outputs": [
    {
     "name": "stdout",
     "output_type": "stream",
     "text": [
      "['a', 'b', 'c', 'd', 'e']\n",
      "abcde\n"
     ]
    }
   ],
   "source": [
    "n=int(input(\"Enter Size Of List :\"))\n",
    "l1=[]\n",
    "for  i in range(n):\n",
    "    l1.append(input(\"Enter Elements of list: \"))\n",
    "print(l1)\n",
    "str = ''\n",
    "for i in l1:\n",
    "    str = str+i\n",
    "print(str)"
   ]
  },
  {
   "cell_type": "markdown",
   "metadata": {},
   "source": [
    "### 10) Write a program to interchange the list elements based on two positions entered by a user"
   ]
  },
  {
   "cell_type": "code",
   "execution_count": 12,
   "metadata": {},
   "outputs": [
    {
     "name": "stdout",
     "output_type": "stream",
     "text": [
      "[11, 12, 13, 14, 15]\n",
      "Modified List is :[11, 12, 14, 13, 15]\n"
     ]
    }
   ],
   "source": [
    "n=int(input(\"Enter Size Of List :\"))\n",
    "l1=[]\n",
    "for  i in range(n):\n",
    "    l1.append(int(input(\"Enter Elements of list: \")))\n",
    "ind1=int(input(\"Enter First Index :\"))\n",
    "ind2=int(input(\"Enter Second Index :\"))\n",
    "print(l1)\n",
    "temp=l1[ind1]\n",
    "l1[ind1]=l1[ind2]\n",
    "l1[ind2]=temp\n",
    "print(f\"Modified List is :{l1}\")"
   ]
  },
  {
   "cell_type": "markdown",
   "metadata": {},
   "source": [
    "### 11) Write a program to print all odd numbers of the list entered by the user."
   ]
  },
  {
   "cell_type": "code",
   "execution_count": 14,
   "metadata": {},
   "outputs": [
    {
     "name": "stdout",
     "output_type": "stream",
     "text": [
      "[11, 12, 13, 14, 15]\n",
      "11\n",
      "13\n",
      "15\n"
     ]
    }
   ],
   "source": [
    "n=int(input(\"Enter Size Of List :\"))\n",
    "l1=[]\n",
    "for  i in range(n):\n",
    "    l1.append(int(input(\"Enter Elements of list: \")))\n",
    "print(l1)\n",
    "for i in l1:\n",
    "    if i%2!=0:\n",
    "        print(i)\n"
   ]
  },
  {
   "cell_type": "markdown",
   "metadata": {},
   "source": [
    "### 12) Write a program to enter the name, quantity, and price of five products by a user. Generate and print all the details with the product’s total\n",
    "### amount in a formatted manner using list"
   ]
  },
  {
   "cell_type": "code",
   "execution_count": 1,
   "metadata": {},
   "outputs": [
    {
     "name": "stdout",
     "output_type": "stream",
     "text": [
      "Enter Details of Product 1\n",
      "Enter Details of Product 2\n",
      "Enter Details of Product 3\n",
      "Enter Details of Product 4\n",
      "Enter Details of Product 5\n",
      "\n",
      "Product Details :\n",
      "Name                 Quantity   Price      Total Amount   \n",
      "chocolate            2          10.0       20.0                \n",
      "butter               3          30.0       90.0                \n",
      "bread                2          27.0       54.0                \n",
      "milk                 1          50.0       50.0                \n",
      "banana               12         5.0        60.0                \n"
     ]
    }
   ],
   "source": [
    "product_names = []\n",
    "quantities = []\n",
    "prices = [] \n",
    "for i in range(5):\n",
    "    print(f\"Enter Details of Product {i+1}\")\n",
    "    name = input(\"Enter Product Name :\")\n",
    "    quantity = int(input(\"Enter Quantity :\"))\n",
    "    price = float(input(\"Enter Price :\"))\n",
    "    product_names.append(name)\n",
    "    quantities.append(quantity)\n",
    "    prices.append(price)\n",
    "print(\"\\nProduct Details :\")\n",
    "print(f\"{'Name':<20} {'Quantity':<10} {'Price':<10} {'Total Amount':<15}\")\n",
    "for i in range(5):\n",
    "    total_amount = quantities[i] * prices[i]\n",
    "    print(f\"{product_names[i]:<20} {quantities[i]:<10} {prices[i]:<10} {total_amount:<20}\")"
   ]
  }
 ],
 "metadata": {
  "kernelspec": {
   "display_name": "Python 3 (ipykernel)",
   "language": "python",
   "name": "python3"
  },
  "language_info": {
   "codemirror_mode": {
    "name": "ipython",
    "version": 3
   },
   "file_extension": ".py",
   "mimetype": "text/x-python",
   "name": "python",
   "nbconvert_exporter": "python",
   "pygments_lexer": "ipython3",
   "version": "3.12.4"
  }
 },
 "nbformat": 4,
 "nbformat_minor": 4
}
